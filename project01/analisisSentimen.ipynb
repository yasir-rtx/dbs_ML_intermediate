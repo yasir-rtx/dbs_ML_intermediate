{
 "cells": [
  {
   "cell_type": "markdown",
   "metadata": {},
   "source": [
    "# Import Library"
   ]
  },
  {
   "cell_type": "code",
   "execution_count": 1,
   "metadata": {},
   "outputs": [
    {
     "name": "stderr",
     "output_type": "stream",
     "text": [
      "2024-07-25 15:58:16.668071: I tensorflow/core/platform/cpu_feature_guard.cc:210] This TensorFlow binary is optimized to use available CPU instructions in performance-critical operations.\n",
      "To enable the following instructions: AVX2 FMA, in other operations, rebuild TensorFlow with the appropriate compiler flags.\n"
     ]
    }
   ],
   "source": [
    "from tensorflow.keras.preprocessing.text import Tokenizer\n",
    "from tensorflow.keras.preprocessing.sequence import pad_sequences\n",
    "from keras.losses import categorical_crossentropy\n",
    "from keras.optimizers import Adam\n",
    "from keras import models\n",
    "from keras import layers\n",
    "\n",
    "from sklearn.model_selection import train_test_split\n",
    "from sklearn.preprocessing import OneHotEncoder\n",
    "from collections import Counter\n",
    "from pandas import read_csv\n",
    "\n",
    "import numpy as np"
   ]
  },
  {
   "cell_type": "markdown",
   "metadata": {},
   "source": [
    "# Data Preprocessing"
   ]
  },
  {
   "cell_type": "markdown",
   "metadata": {},
   "source": [
    "### loading dataset"
   ]
  },
  {
   "cell_type": "code",
   "execution_count": 2,
   "metadata": {},
   "outputs": [
    {
     "name": "stdout",
     "output_type": "stream",
     "text": [
      "(15000, 3)\n",
      "\n",
      "Sentiment\n",
      "negative    8119\n",
      "positive    5868\n",
      "neutral     1013\n",
      "Name: count, dtype: int64\n"
     ]
    },
    {
     "data": {
      "text/html": [
       "<div>\n",
       "<style scoped>\n",
       "    .dataframe tbody tr th:only-of-type {\n",
       "        vertical-align: middle;\n",
       "    }\n",
       "\n",
       "    .dataframe tbody tr th {\n",
       "        vertical-align: top;\n",
       "    }\n",
       "\n",
       "    .dataframe thead th {\n",
       "        text-align: right;\n",
       "    }\n",
       "</style>\n",
       "<table border=\"1\" class=\"dataframe\">\n",
       "  <thead>\n",
       "    <tr style=\"text-align: right;\">\n",
       "      <th></th>\n",
       "      <th>Text Original</th>\n",
       "      <th>Text Clean</th>\n",
       "      <th>Sentiment</th>\n",
       "    </tr>\n",
       "  </thead>\n",
       "  <tbody>\n",
       "    <tr>\n",
       "      <th>0</th>\n",
       "      <td>Tidak suka bermain event atau gameplay mode te...</td>\n",
       "      <td>suka bermain event gameplay mode tema menguran...</td>\n",
       "      <td>positive</td>\n",
       "    </tr>\n",
       "    <tr>\n",
       "      <th>1</th>\n",
       "      <td>Update terbaru update yang paling kacau selama...</td>\n",
       "      <td>update terbaru update kacau main pubg pengatur...</td>\n",
       "      <td>negative</td>\n",
       "    </tr>\n",
       "    <tr>\n",
       "      <th>2</th>\n",
       "      <td>Saya heran kenapa orang2 pada punya masalah ky...</td>\n",
       "      <td>heran orang frame drop render ngebug sinyal ng...</td>\n",
       "      <td>negative</td>\n",
       "    </tr>\n",
       "    <tr>\n",
       "      <th>3</th>\n",
       "      <td>gamenya bagus banget, tapi saya punya sedikit ...</td>\n",
       "      <td>gamenya bagus banget keluhan gamenya berat mai...</td>\n",
       "      <td>negative</td>\n",
       "    </tr>\n",
       "    <tr>\n",
       "      <th>4</th>\n",
       "      <td>Setelah update, grafik menuru walaupun sudah d...</td>\n",
       "      <td>update grafik menuru setingan blur frame rate ...</td>\n",
       "      <td>neutral</td>\n",
       "    </tr>\n",
       "  </tbody>\n",
       "</table>\n",
       "</div>"
      ],
      "text/plain": [
       "                                       Text Original  \\\n",
       "0  Tidak suka bermain event atau gameplay mode te...   \n",
       "1  Update terbaru update yang paling kacau selama...   \n",
       "2  Saya heran kenapa orang2 pada punya masalah ky...   \n",
       "3  gamenya bagus banget, tapi saya punya sedikit ...   \n",
       "4  Setelah update, grafik menuru walaupun sudah d...   \n",
       "\n",
       "                                          Text Clean Sentiment  \n",
       "0  suka bermain event gameplay mode tema menguran...  positive  \n",
       "1  update terbaru update kacau main pubg pengatur...  negative  \n",
       "2  heran orang frame drop render ngebug sinyal ng...  negative  \n",
       "3  gamenya bagus banget keluhan gamenya berat mai...  negative  \n",
       "4  update grafik menuru setingan blur frame rate ...   neutral  "
      ]
     },
     "execution_count": 2,
     "metadata": {},
     "output_type": "execute_result"
    }
   ],
   "source": [
    "df = read_csv(\"dataset_pubg.csv\")\n",
    "print(df.shape, end=\"\\n\\n\")\n",
    "print(df['Sentiment'].value_counts())\n",
    "df.head()"
   ]
  },
  {
   "cell_type": "code",
   "execution_count": 3,
   "metadata": {},
   "outputs": [
    {
     "name": "stdout",
     "output_type": "stream",
     "text": [
      "['suka bermain event gameplay mode tema mengurangi pengalaman bermain kompetitif suka visi misi pubg realistis banding game fps event bertema menambah kapasitas internal penuh berpengaruh pengalaman bermain bug frame rate turun event rumah coba fungsinya peperangan event tema'\n",
      " 'update terbaru update kacau main pubg pengaturan tombol pulak tulisan tombol layar save nyaman main pubg penyakit game pubg lag frame ganggu ganggu diperbaiki player menikmati permainan adil'\n",
      " 'heran orang frame drop render ngebug sinyal ngelag main pubg mobile gitu sinyal frame drop okelah game online pas hp kentang emang frame drop parah sinyal ngelag pas upgrade hp begituan ngeluh pubg mobile buruk optimalisasinya fix hp tuh kentang'\n",
      " ...\n",
      " 'oppo nglekbisa perbaiki berat gamex inimaaf tambahansetelah kali dimain gk masuk lagu tulisan eror jaringan pdahal jaringan full tolong'\n",
      " 'update gameplay ngefreeze mobile emulator tolong optimalisasi'\n",
      " 'bot tolong nerf ngeselin banget sekarat bot nge heal player langsung mati']\n",
      "['positive' 'negative' 'negative' ... 'negative' 'positive' 'negative']\n"
     ]
    }
   ],
   "source": [
    "dataset = df['Text Clean'].to_numpy()\n",
    "label = df.Sentiment.to_numpy()\n",
    "print(dataset)\n",
    "print(label)"
   ]
  },
  {
   "cell_type": "markdown",
   "metadata": {},
   "source": [
    "### Count unique words"
   ]
  },
  {
   "cell_type": "code",
   "execution_count": 4,
   "metadata": {},
   "outputs": [
    {
     "data": {
      "text/plain": [
       "28316"
      ]
     },
     "execution_count": 4,
     "metadata": {},
     "output_type": "execute_result"
    }
   ],
   "source": [
    "# count unique words\n",
    "def counter_word(texts):\n",
    "    count = Counter()\n",
    "    for text in texts.values:\n",
    "        for word in text.split():\n",
    "            count[word] += 1\n",
    "    return count\n",
    "\n",
    "counter = counter_word(df['Text Clean'])\n",
    "num_unique_words = len(counter)\n",
    "num_unique_words\n",
    "# counter.most_common(5)"
   ]
  },
  {
   "cell_type": "markdown",
   "metadata": {},
   "source": [
    "### Tokenizing"
   ]
  },
  {
   "cell_type": "code",
   "execution_count": 5,
   "metadata": {},
   "outputs": [],
   "source": [
    "# tokenizing dataset\n",
    "tokenizer = Tokenizer(num_words=num_unique_words)\n",
    "tokenizer.fit_on_texts(dataset)\n",
    "\n",
    "# dictionary for word\n",
    "word_index = tokenizer.word_index\n",
    "\n",
    "# turn dataset to sequence\n",
    "dataset_seq = tokenizer.texts_to_sequences(dataset)"
   ]
  },
  {
   "cell_type": "markdown",
   "metadata": {},
   "source": [
    "### Paddding"
   ]
  },
  {
   "cell_type": "code",
   "execution_count": 6,
   "metadata": {},
   "outputs": [],
   "source": [
    "max_word_length = 80\n",
    "dataset_padded = pad_sequences(dataset_seq, maxlen=max_word_length, padding=\"post\", truncating=\"post\")"
   ]
  },
  {
   "cell_type": "code",
   "execution_count": 7,
   "metadata": {},
   "outputs": [
    {
     "name": "stdout",
     "output_type": "stream",
     "text": [
      "Text Ori   :  bermain event kendala bug loting bug bug tolong perbaiki kendala update bug senjata reload backpack senjata loot suka bug berulang ulang\n",
      "Text Token :  [17, 30, 167, 2, 3045, 2, 2, 3, 8, 167, 4, 2, 41, 480, 3732, 41, 540, 24, 2, 492, 86]\n",
      "Token Pad  :  [  17   30  167    2 3045    2    2    3    8  167    4    2   41  480\n",
      " 3732   41  540   24    2  492   86    0    0    0    0    0    0    0\n",
      "    0    0    0    0    0    0    0    0    0    0    0    0    0    0\n",
      "    0    0    0    0    0    0    0    0    0    0    0    0    0    0\n",
      "    0    0    0    0    0    0    0    0    0    0    0    0    0    0\n",
      "    0    0    0    0    0    0    0    0    0    0]\n"
     ]
    }
   ],
   "source": [
    "print(\"Text Ori   : \", dataset[10])\n",
    "print(\"Text Token : \", dataset_seq[10])\n",
    "print(\"Token Pad  : \", dataset_padded[10])"
   ]
  },
  {
   "cell_type": "markdown",
   "metadata": {},
   "source": [
    "### Decoder"
   ]
  },
  {
   "cell_type": "code",
   "execution_count": 8,
   "metadata": {},
   "outputs": [
    {
     "name": "stdout",
     "output_type": "stream",
     "text": [
      "Text Sequence :  [17, 30, 167, 2, 3045, 2, 2, 3, 8, 167, 4, 2, 41, 480, 3732, 41, 540, 24, 2, 492, 86]\n",
      "Text Decoded  :  bermain event kendala bug loting bug bug tolong perbaiki kendala update bug senjata reload backpack senjata loot suka bug berulang ulang\n"
     ]
    }
   ],
   "source": [
    "# Flip word dictionary (key, value)\n",
    "reverse_word_index = dict([(idx, word) for (word, idx) in word_index.items()])\n",
    "\n",
    "def decode(sequence):\n",
    "    return \" \".join([reverse_word_index.get(idx, \"?\") for idx in sequence])\n",
    "\n",
    "decoded_text = decode(dataset_seq[10])\n",
    "print(\"Text Sequence : \", dataset_seq[10])\n",
    "print(\"Text Decoded  : \", decoded_text)"
   ]
  },
  {
   "cell_type": "markdown",
   "metadata": {},
   "source": [
    "### Data Split"
   ]
  },
  {
   "cell_type": "code",
   "execution_count": 9,
   "metadata": {},
   "outputs": [],
   "source": [
    "X_train, X_test, y_train, y_test = train_test_split(dataset_padded, label, test_size=0.2)"
   ]
  },
  {
   "cell_type": "markdown",
   "metadata": {},
   "source": [
    "# Modelling"
   ]
  },
  {
   "cell_type": "markdown",
   "metadata": {},
   "source": [
    "### Feature Extraction"
   ]
  },
  {
   "cell_type": "code",
   "execution_count": null,
   "metadata": {},
   "outputs": [],
   "source": [
    "wordEmbedding = layers.Embedding(num_unique_words, 32, input_length=max_word_length)"
   ]
  },
  {
   "cell_type": "markdown",
   "metadata": {},
   "source": [
    "### Skema 2 : LSTM"
   ]
  },
  {
   "cell_type": "code",
   "execution_count": null,
   "metadata": {},
   "outputs": [],
   "source": [
    "lstm = models.Sequential()\n",
    "lstm.add(layers.Embedding(num_unique_words, 32, input_length=max_word_length))\n",
    "\n",
    "lstm.add(layers.LSTM(100, dropout=0.2, recurrent_dropout=0.2))\n",
    "lstm.add(layers.Dense(3, activation='softmax'))\n",
    "\n",
    "# lstm.summary()"
   ]
  },
  {
   "cell_type": "code",
   "execution_count": null,
   "metadata": {},
   "outputs": [],
   "source": [
    "loss = categorical_crossentropy\n",
    "opt = Adam(learning_rate=0.001)\n",
    "lstm.compile(loss=loss, optimizer=opt, metrics=['accuracy'])"
   ]
  },
  {
   "cell_type": "code",
   "execution_count": null,
   "metadata": {},
   "outputs": [],
   "source": [
    "history_lstm = lstm.fit(X_train, y_train, epochs=5)"
   ]
  }
 ],
 "metadata": {
  "kernelspec": {
   "display_name": "nlp",
   "language": "python",
   "name": "python3"
  },
  "language_info": {
   "codemirror_mode": {
    "name": "ipython",
    "version": 3
   },
   "file_extension": ".py",
   "mimetype": "text/x-python",
   "name": "python",
   "nbconvert_exporter": "python",
   "pygments_lexer": "ipython3",
   "version": "3.12.3"
  }
 },
 "nbformat": 4,
 "nbformat_minor": 2
}
