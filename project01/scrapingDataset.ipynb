{
 "cells": [
  {
   "cell_type": "markdown",
   "metadata": {},
   "source": [
    "# Import Library"
   ]
  },
  {
   "cell_type": "code",
   "execution_count": 4,
   "metadata": {},
   "outputs": [],
   "source": [
    "from Sastrawi.Stemmer.StemmerFactory import StemmerFactory\n",
    "from google_play_scraper import Sort, reviews, reviews_all\n",
    "from nltk.tokenize import  word_tokenize\n",
    "from matplotlib import pyplot as plt\n",
    "from nltk.corpus import stopwords\n",
    "from seaborn import histplot\n",
    "from requests import get\n",
    "from io import StringIO\n",
    "\n",
    "import pandas as pd\n",
    "import csv, re, string, json, nltk"
   ]
  },
  {
   "cell_type": "code",
   "execution_count": 5,
   "metadata": {},
   "outputs": [
    {
     "name": "stderr",
     "output_type": "stream",
     "text": [
      "[nltk_data] Downloading package punkt to /home/yelf/nltk_data...\n",
      "[nltk_data]   Package punkt is already up-to-date!\n",
      "[nltk_data] Downloading package stopwords to /home/yelf/nltk_data...\n",
      "[nltk_data]   Package stopwords is already up-to-date!\n"
     ]
    },
    {
     "data": {
      "text/plain": [
       "True"
      ]
     },
     "execution_count": 5,
     "metadata": {},
     "output_type": "execute_result"
    }
   ],
   "source": [
    "nltk.download('punkt')\n",
    "nltk.download('stopwords')"
   ]
  },
  {
   "cell_type": "markdown",
   "metadata": {},
   "source": [
    "# Scrapping Data"
   ]
  },
  {
   "cell_type": "code",
   "execution_count": 6,
   "metadata": {},
   "outputs": [],
   "source": [
    "pubgReviews = reviews_all(\n",
    "    app_id='com.tencent.ig',\n",
    "    lang='id',\n",
    "    country='id',\n",
    "    sort=Sort.MOST_RELEVANT\n",
    ")"
   ]
  },
  {
   "cell_type": "code",
   "execution_count": 7,
   "metadata": {},
   "outputs": [
    {
     "name": "stdout",
     "output_type": "stream",
     "text": [
      "Baris : 49500 & Kolom : 11\n"
     ]
    }
   ],
   "source": [
    "# Membuat DataFrame dari hasil pubgReviews\n",
    "raw_df = pd.DataFrame(pubgReviews)\n",
    "\n",
    "# Menghitung jumlah baris dan kolom dalam DataFrame\n",
    "jumlah_ulasan, jumlah_kolom = raw_df.shape\n",
    "print(\"Baris : {} & Kolom : {}\".format(jumlah_ulasan, jumlah_kolom))"
   ]
  },
  {
   "cell_type": "markdown",
   "metadata": {},
   "source": [
    "# Text Preprocessing"
   ]
  },
  {
   "cell_type": "code",
   "execution_count": 8,
   "metadata": {},
   "outputs": [
    {
     "name": "stdout",
     "output_type": "stream",
     "text": [
      "Baris : 13261 & Kolom : 11\n"
     ]
    }
   ],
   "source": [
    "clean_df = raw_df.dropna()\n",
    "clean_df = clean_df.drop_duplicates()\n",
    "\n",
    "jumlah_ulasan, jumlah_kolom = clean_df.shape\n",
    "print(\"Baris : {} & Kolom : {}\".format(jumlah_ulasan, jumlah_kolom))"
   ]
  },
  {
   "cell_type": "markdown",
   "metadata": {},
   "source": [
    "### define function"
   ]
  },
  {
   "cell_type": "code",
   "execution_count": 9,
   "metadata": {},
   "outputs": [],
   "source": [
    "def cleaningText(text):\n",
    "    text = re.sub(r'@[A-Za-z0-9]+', '', text) # menghapus mention\n",
    "    text = re.sub(r'#[A-Za-z0-9]+', '', text) # menghapus hashtag\n",
    "    text = re.sub(r'RT[\\s]', '', text) # menghapus RT\n",
    "    text = re.sub(r\"http\\S+\", '', text) # menghapus link\n",
    "    text = re.sub(r'[0-9]+', '', text) # menghapus angka\n",
    "    text = re.sub(r'[^\\w\\s]', '', text) # menghapus karakter selain huruf dan angka\n",
    "    text = text.replace('\\n', ' ') # mengganti baris baru dengan spasi\n",
    "    text = text.translate(str.maketrans('', '', string.punctuation)) # menghapus semua tanda baca\n",
    "    text = text.strip(' ') # menghapus karakter spasi dari kiri dan kanan teks\n",
    "    return text\n",
    " \n",
    "def casefoldingText(text):\n",
    "    return text.lower()\n",
    "\n",
    "def fix_slangwords(text):\n",
    "    with open('combined_slang_words.txt', 'r') as file:\n",
    "        slangwords = json.loads(file.readline())\n",
    "    words = text.split()\n",
    "    fixed_words = []\n",
    " \n",
    "    for word in words:\n",
    "        if word.lower() in slangwords:\n",
    "            fixed_words.append(slangwords[word.lower()])\n",
    "        else:\n",
    "            fixed_words.append(word)\n",
    " \n",
    "    return ' '.join(fixed_words)\n",
    "\n",
    "def tokenizingText(text):\n",
    "    return word_tokenize(text)\n",
    " \n",
    "def filteringText(text):\n",
    "    listStopwords = set(stopwords.words('indonesian'))\n",
    "    listStopwords1 = set(stopwords.words('english'))\n",
    "    listStopwords.update(listStopwords1)\n",
    "    listStopwords.update(['iya','yaa','gak','nya','na','sih','ku',\"di\",\"ga\",\"ya\",\"gaa\",\"loh\",\"kah\",\"woi\",\"woii\",\"woy\"])\n",
    "    filtered = []\n",
    "    for txt in text:\n",
    "        if txt not in listStopwords:\n",
    "            filtered.append(txt)\n",
    "    text = filtered\n",
    "    return text\n",
    "\n",
    "def stemmingText(text):\n",
    "    factory = StemmerFactory()\n",
    "    stemmer = factory.create_stemmer()\n",
    "    words = text.split()\n",
    " \n",
    "    stemmed_words = [stemmer.stem(word) for word in words]\n",
    "    stemmed_text = ' '.join(stemmed_words)\n",
    "    return stemmed_text\n",
    " \n",
    "def toSentence(list_words): # Mengubah daftar kata menjadi kalimat\n",
    "    return ' '.join(word for word in list_words)"
   ]
  },
  {
   "cell_type": "markdown",
   "metadata": {},
   "source": [
    "### Apply to dataset"
   ]
  },
  {
   "cell_type": "code",
   "execution_count": 10,
   "metadata": {},
   "outputs": [
    {
     "name": "stdout",
     "output_type": "stream",
     "text": [
      "Proses Cleaning     : START\n",
      "Proses Cleaning     : DONE\n",
      "\n",
      "Proses Case Folding : START\n",
      "Proses Case Folding : DONE\n",
      "\n",
      "Proses Slangword    : START\n",
      "Proses Slangword    : DONE\n",
      "\n",
      "Proses Tokenizing   : START\n",
      "Proses Tokenizing   : DONE\n",
      "\n",
      "Proses Stopword     : START\n",
      "Proses Stopword     : DONE\n",
      "\n",
      "Proses Stemming     : START\n",
      "Proses Stemming     : DONE\n",
      "\n",
      "Proses Final        : START\n",
      "Proses Final        : DONE\n",
      "\n"
     ]
    }
   ],
   "source": [
    "print(\"Proses Cleaning     : START\")\n",
    "raw_df['text_clean'] = raw_df['content'].apply(cleaningText)\n",
    "print(\"Proses Cleaning     : DONE\\n\")\n",
    "\n",
    "print(\"Proses Case Folding : START\")\n",
    "raw_df['text_casefolding'] = raw_df['text_clean'].apply(casefoldingText)\n",
    "print(\"Proses Case Folding : DONE\\n\")\n",
    "\n",
    "print(\"Proses Slangword    : START\")\n",
    "raw_df['text_slangwords'] = raw_df['text_casefolding'].apply(fix_slangwords)\n",
    "print(\"Proses Slangword    : DONE\\n\")\n",
    "\n",
    "print(\"Proses Tokenizing   : START\")\n",
    "raw_df['text_tokenizingText'] = raw_df['text_slangwords'].apply(tokenizingText)\n",
    "print(\"Proses Tokenizing   : DONE\\n\")\n",
    "\n",
    "print(\"Proses Stopword     : START\")\n",
    "raw_df['text_stopword'] = raw_df['text_tokenizingText'].apply(filteringText)\n",
    "print(\"Proses Stopword     : DONE\\n\")\n",
    "\n",
    "print(\"Proses Stemming     : START\")\n",
    "raw_df['text_stemming'] = raw_df['text_stopword'].apply(filteringText)\n",
    "print(\"Proses Stemming     : DONE\\n\")\n",
    "\n",
    "print(\"Proses Final        : START\")\n",
    "raw_df['text_akhir'] = raw_df['text_stemming'].apply(toSentence)\n",
    "print(\"Proses Final        : DONE\\n\")\n"
   ]
  },
  {
   "cell_type": "markdown",
   "metadata": {},
   "source": [
    "# Labeling"
   ]
  },
  {
   "cell_type": "code",
   "execution_count": 32,
   "metadata": {},
   "outputs": [
    {
     "name": "stdout",
     "output_type": "stream",
     "text": [
      "Fetching positive lexicon data\n",
      "Fetching negative lexicon data\n",
      "\n",
      "sentiment\n",
      "negative    25918\n",
      "positive    20164\n",
      "neutral      3418\n",
      "Name: count, dtype: int64\n"
     ]
    }
   ],
   "source": [
    "lexicon_positive, lexicon_negative = {}, {}\n",
    "\n",
    "def sentiment_analysis_lexicon_indonesia(text):\n",
    "    score = 0\n",
    " \n",
    "    for word in text:\n",
    "        if (word in lexicon_positive):\n",
    "            score = score + lexicon_positive[word]\n",
    " \n",
    "    for word in text:\n",
    "        if (word in lexicon_negative):\n",
    "            score = score + lexicon_negative[word]\n",
    " \n",
    "    sentiment=''\n",
    " \n",
    "    if (score > 0) :sentiment = 'positive'\n",
    "    elif (score < 0) :sentiment = 'negative'\n",
    "    else: sentiment = 'neutral'\n",
    " \n",
    "    return score, sentiment\n",
    "\n",
    "response = get(url='https://raw.githubusercontent.com/angelmetanosaa/dataset/main/lexicon_positive.csv')\n",
    "\n",
    "def create_dict(url, dictType):\n",
    "    response = get(url=url)\n",
    "    if response.status_code == 200:\n",
    "        reader = csv.reader(StringIO(response.text), delimiter=',')\n",
    "        if dictType == 'positive':\n",
    "            print(\"Fetching {} lexicon data\".format(dictType))\n",
    "            for row in reader:\n",
    "                lexicon_positive[row[0]] = int(row[1])\n",
    "        else:\n",
    "            print(\"Fetching {} lexicon data\".format(dictType))\n",
    "            for row in reader:\n",
    "                lexicon_negative[row[0]] = int(row[1])\n",
    "    else:\n",
    "        print(\"Failed to fetch lexicon data\")\n",
    "\n",
    "create_dict('https://raw.githubusercontent.com/angelmetanosaa/dataset/main/lexicon_positive.csv', \"positive\")\n",
    "create_dict('https://raw.githubusercontent.com/angelmetanosaa/dataset/main/lexicon_negative.csv', \"negative\")\n",
    "print(\"\")\n",
    "\n",
    "results = raw_df['text_stemming'].apply(sentiment_analysis_lexicon_indonesia)\n",
    "results = list(zip(*results))\n",
    "raw_df['polarity_score'] = results[0]\n",
    "raw_df['sentiment'] = results[1]\n",
    "print(raw_df['sentiment'].value_counts())"
   ]
  },
  {
   "cell_type": "markdown",
   "metadata": {},
   "source": [
    "# Undersampling"
   ]
  },
  {
   "cell_type": "code",
   "execution_count": 39,
   "metadata": {},
   "outputs": [],
   "source": [
    "neg_num, pos_num, neu_num = raw_df.sentiment.value_counts()\n",
    "# print(\"Negative : {}\\nPositive : {}\\nNeutral  : {}\".format(neg_num, pos_num, neu_num ))\n",
    "\n",
    "neg_class_pre, pos_class_pre, neu_class = raw_df[raw_df.sentiment == 'negative'], raw_df[raw_df.sentiment == 'positive'], raw_df[raw_df.sentiment == 'neutral']\n",
    "neg_class = neg_class_pre.sample(neu_num)\n",
    "pos_class = pos_class_pre.sample(neu_num)\n",
    "\n",
    "# Generate final dataframe\n",
    "df = pd.concat([neg_class, pos_class, neu_class], axis=0)"
   ]
  },
  {
   "cell_type": "markdown",
   "metadata": {},
   "source": [
    "# Visualization"
   ]
  },
  {
   "cell_type": "code",
   "execution_count": 43,
   "metadata": {},
   "outputs": [
    {
     "data": {
      "image/png": "[encoded data removed]",
      "text/plain": [
       "<Figure size 1000x400 with 2 Axes>"
      ]
     },
     "metadata": {},
     "output_type": "display_data"
    }
   ],
   "source": [
    "fig,axes = plt.subplots(1,2,figsize=(10,4))\n",
    "histplot(data=raw_df, x='sentiment', ax=axes[0], color='red')\n",
    "histplot(data=df, x='sentiment', ax=axes[1], color='blue')\n",
    "plt.show()"
   ]
  },
  {
   "cell_type": "markdown",
   "metadata": {},
   "source": [
    "# Save Dataset"
   ]
  },
  {
   "cell_type": "code",
   "execution_count": 57,
   "metadata": {},
   "outputs": [
    {
     "data": {
      "text/html": [
       "<div>\n",
       "<style scoped>\n",
       "    .dataframe tbody tr th:only-of-type {\n",
       "        vertical-align: middle;\n",
       "    }\n",
       "\n",
       "    .dataframe tbody tr th {\n",
       "        vertical-align: top;\n",
       "    }\n",
       "\n",
       "    .dataframe thead th {\n",
       "        text-align: right;\n",
       "    }\n",
       "</style>\n",
       "<table border=\"1\" class=\"dataframe\">\n",
       "  <thead>\n",
       "    <tr style=\"text-align: right;\">\n",
       "      <th></th>\n",
       "      <th>Text Clean</th>\n",
       "      <th>Sentiment</th>\n",
       "    </tr>\n",
       "  </thead>\n",
       "  <tbody>\n",
       "    <tr>\n",
       "      <th>22671</th>\n",
       "      <td>kecewa capek capek bunuh musuh headshot bertur...</td>\n",
       "      <td>negative</td>\n",
       "    </tr>\n",
       "    <tr>\n",
       "      <th>16260</th>\n",
       "      <td>plisss pembaruan download ulang seharian downl...</td>\n",
       "      <td>negative</td>\n",
       "    </tr>\n",
       "    <tr>\n",
       "      <th>25435</th>\n",
       "      <td>taii update jam ehh ngeleg musuh didepan mati ...</td>\n",
       "      <td>negative</td>\n",
       "    </tr>\n",
       "    <tr>\n",
       "      <th>19071</th>\n",
       "      <td>bagus sayang gk hp ram rendah tolong update ku...</td>\n",
       "      <td>negative</td>\n",
       "    </tr>\n",
       "    <tr>\n",
       "      <th>776</th>\n",
       "      <td>login pasword email sinyalnya bagus sudahnya p...</td>\n",
       "      <td>negative</td>\n",
       "    </tr>\n",
       "  </tbody>\n",
       "</table>\n",
       "</div>"
      ],
      "text/plain": [
       "                                              Text Clean Sentiment\n",
       "22671  kecewa capek capek bunuh musuh headshot bertur...  negative\n",
       "16260  plisss pembaruan download ulang seharian downl...  negative\n",
       "25435  taii update jam ehh ngeleg musuh didepan mati ...  negative\n",
       "19071  bagus sayang gk hp ram rendah tolong update ku...  negative\n",
       "776    login pasword email sinyalnya bagus sudahnya p...  negative"
      ]
     },
     "execution_count": 57,
     "metadata": {},
     "output_type": "execute_result"
    }
   ],
   "source": [
    "# Remove unused field from dataset\n",
    "dataset = df.drop(\n",
    "    [\n",
    "        'reviewId', \n",
    "        'userName', \n",
    "        'userImage', \n",
    "        'thumbsUpCount', \n",
    "        'reviewCreatedVersion', \n",
    "        'at', \n",
    "        'replyContent', \n",
    "        'repliedAt', \n",
    "        'appVersion', \n",
    "        'score',\n",
    "        'content',\n",
    "        'text_clean',\n",
    "        'text_casefolding',\n",
    "        'text_slangwords',\n",
    "        'text_tokenizingText',\n",
    "        'text_stopword',\n",
    "        'polarity_score',\n",
    "        'text_stemming'\n",
    "    ], axis=1)\n",
    "\n",
    "# new_header = {'content' : \"Text Original\", 'text_akhir' : 'Text Clean','polarity_score' : 'polarity', 'sentiment' : 'Sentiment'}\n",
    "new_header = {'text_akhir' : 'Text Clean', 'sentiment' : 'Sentiment'}\n",
    "dataset.rename(columns=new_header, inplace=True)\n",
    "\n",
    "# Saving daataset\n",
    "dataset.to_csv(\"dataset_pubg.csv\", index=False)\n",
    "\n",
    "dataset.head()"
   ]
  },
  {
   "cell_type": "code",
   "execution_count": 60,
   "metadata": {},
   "outputs": [
    {
     "name": "stdout",
     "output_type": "stream",
     "text": [
      "Kalimat terpanjang terdiri dari 113 kata\n"
     ]
    }
   ],
   "source": [
    "min = 0\n",
    "for text in raw_df['text_stemming']:\n",
    "    # print(text)\n",
    "    count = len(text)\n",
    "    # print(count)\n",
    "    if count > min :\n",
    "        min = count\n",
    "        max = count\n",
    "    # print(\"Nilai Max Now : {} | Nilai Baca : {}\".format(max, count))\n",
    "print(\"Kalimat terpanjang terdiri dari {} kata\". format(max))"
   ]
  }
 ],
 "metadata": {
  "kernelspec": {
   "display_name": "nlp",
   "language": "python",
   "name": "python3"
  },
  "language_info": {
   "codemirror_mode": {
    "name": "ipython",
    "version": 3
   },
   "file_extension": ".py",
   "mimetype": "text/x-python",
   "name": "python",
   "nbconvert_exporter": "python",
   "pygments_lexer": "ipython3",
   "version": "3.10.12"
  }
 },
 "nbformat": 4,
 "nbformat_minor": 2
}
