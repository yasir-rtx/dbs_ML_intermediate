{
 "cells": [
  {
   "cell_type": "markdown",
   "metadata": {},
   "source": [
    "# Import Library"
   ]
  },
  {
   "cell_type": "code",
   "execution_count": 1,
   "metadata": {},
   "outputs": [],
   "source": [
    "from Sastrawi.Stemmer.StemmerFactory import StemmerFactory\n",
    "from google_play_scraper import Sort, reviews\n",
    "from nltk.tokenize import  word_tokenize\n",
    "from nltk.corpus import stopwords\n",
    "from requests import get\n",
    "from io import StringIO\n",
    "\n",
    "import pandas as pd\n",
    "import csv, re, string, json"
   ]
  },
  {
   "cell_type": "markdown",
   "metadata": {},
   "source": [
    "# Scrapping Data"
   ]
  },
  {
   "cell_type": "code",
   "execution_count": 2,
   "metadata": {},
   "outputs": [],
   "source": [
    "pubgReviews = reviews(\n",
    "    app_id='com.tencent.ig',\n",
    "    lang='id',\n",
    "    country='id',\n",
    "    sort=Sort.MOST_RELEVANT,\n",
    "    count=15000\n",
    ")"
   ]
  },
  {
   "cell_type": "code",
   "execution_count": 4,
   "metadata": {},
   "outputs": [
    {
     "name": "stdout",
     "output_type": "stream",
     "text": [
      "Baris : 15000 & Kolom : 11\n"
     ]
    }
   ],
   "source": [
    "# Membuat DataFrame dari hasil pubgReviews\n",
    "df = pd.DataFrame(pubgReviews[0])\n",
    "\n",
    "# Menghitung jumlah baris dan kolom dalam DataFrame\n",
    "jumlah_ulasan, jumlah_kolom = df.shape\n",
    "print(\"Baris : {} & Kolom : {}\".format(jumlah_ulasan, jumlah_kolom))"
   ]
  },
  {
   "cell_type": "markdown",
   "metadata": {},
   "source": [
    "# Text Preprocessing"
   ]
  },
  {
   "cell_type": "markdown",
   "metadata": {},
   "source": [
    "### define function"
   ]
  },
  {
   "cell_type": "code",
   "execution_count": 5,
   "metadata": {},
   "outputs": [],
   "source": [
    "def cleaningText(text):\n",
    "    text = re.sub(r'@[A-Za-z0-9]+', '', text) # menghapus mention\n",
    "    text = re.sub(r'#[A-Za-z0-9]+', '', text) # menghapus hashtag\n",
    "    text = re.sub(r'RT[\\s]', '', text) # menghapus RT\n",
    "    text = re.sub(r\"http\\S+\", '', text) # menghapus link\n",
    "    text = re.sub(r'[0-9]+', '', text) # menghapus angka\n",
    "    text = re.sub(r'[^\\w\\s]', '', text) # menghapus karakter selain huruf dan angka\n",
    "    text = text.replace('\\n', ' ') # mengganti baris baru dengan spasi\n",
    "    text = text.translate(str.maketrans('', '', string.punctuation)) # menghapus semua tanda baca\n",
    "    text = text.strip(' ') # menghapus karakter spasi dari kiri dan kanan teks\n",
    "    return text\n",
    " \n",
    "def casefoldingText(text):\n",
    "    return text.lower()\n",
    "\n",
    "def fix_slangwords(text):\n",
    "    with open('combined_slang_words.txt', 'r') as file:\n",
    "        slangwords = json.loads(file.readline())\n",
    "    words = text.split()\n",
    "    fixed_words = []\n",
    " \n",
    "    for word in words:\n",
    "        if word.lower() in slangwords:\n",
    "            fixed_words.append(slangwords[word.lower()])\n",
    "        else:\n",
    "            fixed_words.append(word)\n",
    " \n",
    "    return ' '.join(fixed_words)\n",
    "\n",
    "def tokenizingText(text):\n",
    "    return word_tokenize(text)\n",
    " \n",
    "def filteringText(text):\n",
    "    listStopwords = set(stopwords.words('indonesian'))\n",
    "    listStopwords1 = set(stopwords.words('english'))\n",
    "    listStopwords.update(listStopwords1)\n",
    "    listStopwords.update(['iya','yaa','gak','nya','na','sih','ku',\"di\",\"ga\",\"ya\",\"gaa\",\"loh\",\"kah\",\"woi\",\"woii\",\"woy\"])\n",
    "    filtered = []\n",
    "    for txt in text:\n",
    "        if txt not in listStopwords:\n",
    "            filtered.append(txt)\n",
    "    text = filtered\n",
    "    return text\n",
    " \n",
    "def toSentence(list_words): # Mengubah daftar kata menjadi kalimat\n",
    "    return ' '.join(word for word in list_words)"
   ]
  },
  {
   "cell_type": "markdown",
   "metadata": {},
   "source": [
    "### Apply to dataset"
   ]
  },
  {
   "cell_type": "code",
   "execution_count": 6,
   "metadata": {},
   "outputs": [
    {
     "name": "stdout",
     "output_type": "stream",
     "text": [
      "Proses Cleaning     : DONE\n",
      "Proses Case Folding : DONE\n",
      "Proses Slangword    : DONE\n",
      "Proses Tokenizing   : DONE\n",
      "Proses Stopword     : DONE\n",
      "Proses Final        : DONE\n"
     ]
    }
   ],
   "source": [
    "df['text_clean'] = df['content'].apply(cleaningText)\n",
    "print(\"Proses Cleaning     : DONE\")\n",
    "df['text_casefolding'] = df['text_clean'].apply(casefoldingText)\n",
    "print(\"Proses Case Folding : DONE\")\n",
    "df['text_slangwords'] = df['text_casefolding'].apply(fix_slangwords)\n",
    "print(\"Proses Slangword    : DONE\")\n",
    "df['text_tokenizingText'] = df['text_slangwords'].apply(tokenizingText)\n",
    "print(\"Proses Tokenizing   : DONE\")\n",
    "df['text_stopword'] = df['text_tokenizingText'].apply(filteringText)\n",
    "print(\"Proses Stopword     : DONE\")\n",
    "df['text_akhir'] = df['text_stopword'].apply(toSentence)\n",
    "print(\"Proses Final        : DONE\")"
   ]
  },
  {
   "cell_type": "markdown",
   "metadata": {},
   "source": [
    "# Labeling"
   ]
  },
  {
   "cell_type": "code",
   "execution_count": 7,
   "metadata": {},
   "outputs": [
    {
     "name": "stdout",
     "output_type": "stream",
     "text": [
      "Fetching positive lexicon data\n",
      "Fetching negative lexicon data\n",
      "\n",
      "sentiment\n",
      "negative    8119\n",
      "positive    5868\n",
      "neutral     1013\n",
      "Name: count, dtype: int64\n"
     ]
    }
   ],
   "source": [
    "lexicon_positive, lexicon_negative = {}, {}\n",
    "\n",
    "def sentiment_analysis_lexicon_indonesia(text):\n",
    "    score = 0\n",
    " \n",
    "    for word in text:\n",
    "        if (word in lexicon_positive):\n",
    "            score = score + lexicon_positive[word]\n",
    " \n",
    "    for word in text:\n",
    "        if (word in lexicon_negative):\n",
    "            score = score + lexicon_negative[word]\n",
    " \n",
    "    sentiment=''\n",
    " \n",
    "    if (score > 0) :sentiment = 'positive'\n",
    "    elif (score < 0) :sentiment = 'negative'\n",
    "    else: sentiment = 'neutral'\n",
    " \n",
    "    return score, sentiment\n",
    "\n",
    "response = get(url='https://raw.githubusercontent.com/angelmetanosaa/dataset/main/lexicon_positive.csv')\n",
    "\n",
    "def create_dict(url, dictType):\n",
    "    response = get(url=url)\n",
    "    if response.status_code == 200:\n",
    "        reader = csv.reader(StringIO(response.text), delimiter=',')\n",
    "        if dictType == 'positive':\n",
    "            print(\"Fetching {} lexicon data\".format(dictType))\n",
    "            for row in reader:\n",
    "                lexicon_positive[row[0]] = int(row[1])\n",
    "        else:\n",
    "            print(\"Fetching {} lexicon data\".format(dictType))\n",
    "            for row in reader:\n",
    "                lexicon_negative[row[0]] = int(row[1])\n",
    "    else:\n",
    "        print(\"Failed to fetch lexicon data\")\n",
    "\n",
    "create_dict('https://raw.githubusercontent.com/angelmetanosaa/dataset/main/lexicon_positive.csv', \"positive\")\n",
    "create_dict('https://raw.githubusercontent.com/angelmetanosaa/dataset/main/lexicon_negative.csv', \"negative\")\n",
    "print(\"\")\n",
    "\n",
    "results = df['text_stopword'].apply(sentiment_analysis_lexicon_indonesia)\n",
    "results = list(zip(*results))\n",
    "df['polarity_score'] = results[0]\n",
    "df['sentiment'] = results[1]\n",
    "print(df['sentiment'].value_counts())"
   ]
  },
  {
   "cell_type": "markdown",
   "metadata": {},
   "source": [
    "### Visualization"
   ]
  },
  {
   "cell_type": "code",
   "execution_count": 8,
   "metadata": {},
   "outputs": [
    {
     "name": "stdout",
     "output_type": "stream",
     "text": [
      "Total data : 15000 entries\n"
     ]
    },
    {
     "data": {
      "image/png": "[encoded data removed]",
      "text/plain": [
       "<Figure size 640x480 with 1 Axes>"
      ]
     },
     "metadata": {},
     "output_type": "display_data"
    }
   ],
   "source": [
    "label = df['sentiment'].value_counts()\n",
    "ax = label.plot.bar()\n",
    "n = len(df.index)\n",
    "print(\"Total data : {} entries\".format(n))\n",
    "for p in ax.patches:\n",
    "    ax.annotate(str(round(p.get_height() / n * 100, 2)) + '%', (p.get_x() * 1.005, p.get_height() * 1.005))"
   ]
  },
  {
   "cell_type": "markdown",
   "metadata": {},
   "source": [
    "# Save Dataset"
   ]
  },
  {
   "cell_type": "code",
   "execution_count": 38,
   "metadata": {},
   "outputs": [
    {
     "data": {
      "text/html": [
       "<div>\n",
       "<style scoped>\n",
       "    .dataframe tbody tr th:only-of-type {\n",
       "        vertical-align: middle;\n",
       "    }\n",
       "\n",
       "    .dataframe tbody tr th {\n",
       "        vertical-align: top;\n",
       "    }\n",
       "\n",
       "    .dataframe thead th {\n",
       "        text-align: right;\n",
       "    }\n",
       "</style>\n",
       "<table border=\"1\" class=\"dataframe\">\n",
       "  <thead>\n",
       "    <tr style=\"text-align: right;\">\n",
       "      <th></th>\n",
       "      <th>Text Original</th>\n",
       "      <th>Text Clean</th>\n",
       "      <th>Sentiment</th>\n",
       "    </tr>\n",
       "  </thead>\n",
       "  <tbody>\n",
       "    <tr>\n",
       "      <th>0</th>\n",
       "      <td>Tidak suka bermain event atau gameplay mode te...</td>\n",
       "      <td>suka bermain event gameplay mode tema menguran...</td>\n",
       "      <td>positive</td>\n",
       "    </tr>\n",
       "    <tr>\n",
       "      <th>1</th>\n",
       "      <td>Update terbaru update yang paling kacau selama...</td>\n",
       "      <td>update terbaru update kacau main pubg pengatur...</td>\n",
       "      <td>negative</td>\n",
       "    </tr>\n",
       "    <tr>\n",
       "      <th>2</th>\n",
       "      <td>Saya heran kenapa orang2 pada punya masalah ky...</td>\n",
       "      <td>heran orang frame drop render ngebug sinyal ng...</td>\n",
       "      <td>negative</td>\n",
       "    </tr>\n",
       "    <tr>\n",
       "      <th>3</th>\n",
       "      <td>gamenya bagus banget, tapi saya punya sedikit ...</td>\n",
       "      <td>gamenya bagus banget keluhan gamenya berat mai...</td>\n",
       "      <td>negative</td>\n",
       "    </tr>\n",
       "    <tr>\n",
       "      <th>4</th>\n",
       "      <td>Setelah update, grafik menuru walaupun sudah d...</td>\n",
       "      <td>update grafik menuru setingan blur frame rate ...</td>\n",
       "      <td>neutral</td>\n",
       "    </tr>\n",
       "  </tbody>\n",
       "</table>\n",
       "</div>"
      ],
      "text/plain": [
       "                                       Text Original  \\\n",
       "0  Tidak suka bermain event atau gameplay mode te...   \n",
       "1  Update terbaru update yang paling kacau selama...   \n",
       "2  Saya heran kenapa orang2 pada punya masalah ky...   \n",
       "3  gamenya bagus banget, tapi saya punya sedikit ...   \n",
       "4  Setelah update, grafik menuru walaupun sudah d...   \n",
       "\n",
       "                                          Text Clean Sentiment  \n",
       "0  suka bermain event gameplay mode tema menguran...  positive  \n",
       "1  update terbaru update kacau main pubg pengatur...  negative  \n",
       "2  heran orang frame drop render ngebug sinyal ng...  negative  \n",
       "3  gamenya bagus banget keluhan gamenya berat mai...  negative  \n",
       "4  update grafik menuru setingan blur frame rate ...   neutral  "
      ]
     },
     "execution_count": 38,
     "metadata": {},
     "output_type": "execute_result"
    }
   ],
   "source": [
    "# Remove unused field from dataset\n",
    "dataset = df.drop(\n",
    "    [\n",
    "        'reviewId', \n",
    "        'userName', \n",
    "        'userImage', \n",
    "        'thumbsUpCount', \n",
    "        'reviewCreatedVersion', \n",
    "        'at', \n",
    "        'replyContent', \n",
    "        'repliedAt', \n",
    "        'appVersion', \n",
    "        'score',\n",
    "        'text_clean',\n",
    "        'text_casefolding',\n",
    "        'text_slangwords',\n",
    "        'text_tokenizingText',\n",
    "        'text_stopword',\n",
    "        'polarity_score'\n",
    "    ], axis=1)\n",
    "\n",
    "new_header = {'content' : \"Text Original\", 'text_akhir' : 'Text Clean', 'sentiment' : 'Sentiment'}\n",
    "dataset.rename(columns=new_header, inplace=True)\n",
    "\n",
    "# Saving daataset\n",
    "dataset.to_csv(\"dataset_pubg.csv\", index=False)\n",
    "\n",
    "dataset.head()"
   ]
  },
  {
   "cell_type": "code",
   "execution_count": 39,
   "metadata": {},
   "outputs": [
    {
     "name": "stdout",
     "output_type": "stream",
     "text": [
      "Kalimat terpanjang terdiri dari 71 kata\n"
     ]
    }
   ],
   "source": [
    "min = 0\n",
    "for text in df['text_stopword']:\n",
    "    # print(text)\n",
    "    count = len(text)\n",
    "    # print(count)\n",
    "    if count > min :\n",
    "        min = count\n",
    "        max = count\n",
    "    # print(\"Nilai Max Now : {} | Nilai Baca : {}\".format(max, count))\n",
    "print(\"Kalimat terpanjang terdiri dari {} kata\". format(max))"
   ]
  }
 ],
 "metadata": {
  "kernelspec": {
   "display_name": "nlp",
   "language": "python",
   "name": "python3"
  },
  "language_info": {
   "codemirror_mode": {
    "name": "ipython",
    "version": 3
   },
   "file_extension": ".py",
   "mimetype": "text/x-python",
   "name": "python",
   "nbconvert_exporter": "python",
   "pygments_lexer": "ipython3",
   "version": "3.10.14"
  }
 },
 "nbformat": 4,
 "nbformat_minor": 2
}
