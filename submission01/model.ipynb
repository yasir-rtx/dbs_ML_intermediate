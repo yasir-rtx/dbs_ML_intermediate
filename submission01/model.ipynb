{
 "cells": [
  {
   "cell_type": "markdown",
   "metadata": {},
   "source": [
    "# Library"
   ]
  },
  {
   "cell_type": "code",
   "execution_count": null,
   "metadata": {},
   "outputs": [],
   "source": [
    "import os\n",
    "os.environ['TF_CPP_MIN_LOG_LEVEL'] = '3'\n",
    "\n",
    "from keras.preprocessing.text import Tokenizer\n",
    "from keras.preprocessing.sequence import pad_sequences\n",
    "from keras.losses import categorical_crossentropy\n",
    "from keras.optimizers import Adam\n",
    "from keras.models import Sequential\n",
    "from keras.callbacks import Callback\n",
    "from keras import layers\n",
    "from keras.regularizers import l2\n",
    "from imblearn.over_sampling import SMOTE\n",
    "from sklearn.metrics import accuracy_score\n",
    "from sklearn.preprocessing import OneHotEncoder\n",
    "from sklearn.model_selection import train_test_split\n",
    "from sklearn.feature_extraction.text import TfidfVectorizer\n",
    "from collections import Counter\n",
    "from gensim.models import Word2Vec\n",
    "from gensim.utils import simple_preprocess\n",
    "from pandas import read_csv\n",
    "\n",
    "import pandas as pd\n",
    "import numpy as np\n",
    "np.set_printoptions(linewidth=np.inf)"
   ]
  },
  {
   "cell_type": "markdown",
   "metadata": {},
   "source": [
    "# Dataset"
   ]
  },
  {
   "cell_type": "code",
   "execution_count": null,
   "metadata": {},
   "outputs": [],
   "source": [
    "# LOAD dataset\n",
    "dataset_path = './dataset_minecraft.csv'\n",
    "df = read_csv(dataset_path)\n",
    "df = df.dropna()\n",
    "df = df.drop_duplicates()\n",
    "print(\"\\\"{}\\\" is loaded succesfully\".format(dataset_path))\n",
    "\n",
    "dataset = df['Text Clean'].to_numpy()\n",
    "label = df['Sentiment'].to_numpy()"
   ]
  },
  {
   "cell_type": "markdown",
   "metadata": {},
   "source": [
    "# Features Extraction"
   ]
  },
  {
   "cell_type": "markdown",
   "metadata": {},
   "source": [
    "### Dataset"
   ]
  },
  {
   "cell_type": "code",
   "execution_count": null,
   "metadata": {},
   "outputs": [],
   "source": [
    "# MAX WORD LENGTH\n",
    "word_len = []\n",
    "for word in dataset:\n",
    "    word_len.append(len(word.split()))\n",
    "max_word_length = max(word_len)\n",
    "print(\"Max Word Length :\\033[1m\", max_word_length)\n",
    "####################################################################################\n",
    "\n",
    "# UNIQUE WORDS\n",
    "def counter_word(texts):\n",
    "    count = Counter()\n",
    "    for text in texts.values:\n",
    "        for word in text.split():\n",
    "            count[word] += 1\n",
    "    return count\n",
    "\n",
    "counter = counter_word(df['Text Clean'])\n",
    "num_unique_words = len(counter) # 14000\n",
    "print(\"\\nUnique words :\\033[1m\", num_unique_words)\n",
    "####################################################################################\n",
    "\n",
    "# TOKENIZING\n",
    "# tokenizing dataset\n",
    "tokenizer = Tokenizer(num_words=num_unique_words)\n",
    "tokenizer.fit_on_texts(dataset)\n",
    "# print(tokenizer.word_index.keys())\n",
    "# print(tokenizer.word_index.values())\n",
    "####################################################################################\n",
    "\n",
    "# FEATURE ENCODER\n",
    "# dictionary for word\n",
    "word_index = tokenizer.word_index\n",
    "# turn dataset to sequence\n",
    "dataset_seq = tokenizer.texts_to_sequences(dataset)\n",
    "print(\"\\n===Feature Encoder Test=== \")\n",
    "print(\"Text Original : \", dataset[6])\n",
    "print(\"Text Encoded  : \", dataset_seq[6])\n",
    "####################################################################################\n",
    "\n",
    "# FEATURE DECODER\n",
    "# Flip word dictionary (key, value)\n",
    "reverse_word_index = dict([(idx, word) for (word, idx) in word_index.items()])\n",
    "def decode(sequence):\n",
    "    return \" \".join([reverse_word_index.get(idx, \"?\") for idx in sequence])\n",
    "decoded_text = decode(dataset_seq[6])\n",
    "print(\"\\n===Feature Decoder Test=== \")\n",
    "print(\"Text Sequence : \", dataset_seq[6])\n",
    "print(\"Text Decoded  : \", decoded_text)\n",
    "####################################################################################\n",
    "\n",
    "# Padding\n",
    "dataset_padded = pad_sequences(dataset_seq, maxlen=max_word_length, padding=\"pre\", truncating=\"pre\")\n",
    "print(\"\\nPadding Test : \")\n",
    "print(\"Text Ori   : \", dataset[6])\n",
    "print(\"Text Token : \", dataset_seq[6])\n",
    "print(\"Token Pad  : \", dataset_padded[6])\n",
    "####################################################################################"
   ]
  },
  {
   "cell_type": "markdown",
   "metadata": {},
   "source": [
    "### Oversampling"
   ]
  },
  {
   "cell_type": "code",
   "execution_count": null,
   "metadata": {},
   "outputs": [],
   "source": [
    "smote = SMOTE()\n",
    "x_over, y_over = smote.fit_resample(dataset_padded, label)"
   ]
  },
  {
   "cell_type": "code",
   "execution_count": null,
   "metadata": {},
   "outputs": [],
   "source": [
    "# BEFORE OVERSAMPLING\n",
    "df.Sentiment.value_counts()"
   ]
  },
  {
   "cell_type": "code",
   "execution_count": null,
   "metadata": {},
   "outputs": [],
   "source": [
    "# AFTER OVERSAMPLING\n",
    "new_df = pd.DataFrame(list(zip(x_over, y_over)), columns=['features', 'label'])\n",
    "new_df['label'].value_counts()"
   ]
  },
  {
   "cell_type": "markdown",
   "metadata": {},
   "source": [
    "### Label"
   ]
  },
  {
   "cell_type": "code",
   "execution_count": null,
   "metadata": {},
   "outputs": [],
   "source": [
    "# LABEL ENCODE\n",
    "encoder = OneHotEncoder(sparse_output=False)\n",
    "label_one_hot = encoder.fit_transform(y_over.reshape(-1, 1))\n",
    "print(\"\\n===Label Encoder Test=== \")\n",
    "print(encoder.get_feature_names_out())\n",
    "print(\"Onehot \\\"{}\\\" : {}\".format(df['Sentiment'][0], label_one_hot[0]))"
   ]
  },
  {
   "cell_type": "markdown",
   "metadata": {},
   "source": [
    "### Splitting"
   ]
  },
  {
   "cell_type": "code",
   "execution_count": 98,
   "metadata": {},
   "outputs": [
    {
     "name": "stdout",
     "output_type": "stream",
     "text": [
      "(21102, 88) (21102, 3)\n"
     ]
    }
   ],
   "source": [
    "print(x_over.shape, label_one_hot.shape)\n",
    "X_train, X_test, y_train, y_test = train_test_split(x_over, label_one_hot, test_size=0.2, random_state=42)"
   ]
  },
  {
   "cell_type": "markdown",
   "metadata": {},
   "source": [
    "# Model"
   ]
  },
  {
   "cell_type": "code",
   "execution_count": null,
   "metadata": {},
   "outputs": [],
   "source": [
    "# DEFINE CALLBACK\n",
    "class myCallback(Callback):\n",
    "    def on_epoch_end(self, epoch, logs={}):\n",
    "        if (logs.get('accuracy') >= 0.92 and logs.get('val_accuracy') >= 0.92):\n",
    "            self.ltm.stop_training=True\n",
    "            print('\\nModel telah mencapai akurasi 92%')"
   ]
  },
  {
   "cell_type": "code",
   "execution_count": null,
   "metadata": {},
   "outputs": [],
   "source": [
    "# Feature Extraction\n",
    "wordEmbedding = layers.Embedding(\n",
    "                        input_dim=num_unique_words, \n",
    "                        output_dim=88, \n",
    "                        input_length=max_word_length)\n",
    "\n",
    "lstm = Sequential([\n",
    "    wordEmbedding,\n",
    "    layers.Bidirectional(layers.LSTM(88, dropout=0.2, kernel_regularizer=l2(0.01))),\n",
    "    # layers.Bidirectional(layers.LSTM(88, return_sequences=True, dropout=0.2, kernel_regularizer=l2(0.01))),e\n",
    "    # layers.Bidirectional(layers.LSTM(64, return_sequences=True, dropout=0.2, kernel_regularizer=l2(0.01))),\n",
    "    # layers.Bidirectional(layers.LSTM(32, return_sequences=True, dropout=0.2, kernel_regularizer=l2(0.01))),\n",
    "    # layers.Bidirectional(layers.LSTM(16, dropout=0.2, kernel_regularizer=l2(0.01))),\n",
    "    # layers.Dense(64, activation='relu'),\n",
    "    # layers.Dropout(0.5),\n",
    "    # layers.Dense(32, activation='relu'),\n",
    "    # layers.Dropout(0.5),\n",
    "    # layers.Dense(16, activation='relu'),\n",
    "    # layers.Dropout(0.8),\n",
    "    layers.Dense(3, activation='softmax')\n",
    "])\n",
    "\n",
    "lstm.summary()"
   ]
  },
  {
   "cell_type": "code",
   "execution_count": null,
   "metadata": {},
   "outputs": [],
   "source": [
    "lstm.compile(loss=categorical_crossentropy,\n",
    "             optimizer=Adam(learning_rate=0.00001),\n",
    "             metrics=['accuracy'])\n",
    "\n",
    "history_lstm = lstm.fit(X_train, y_train,\n",
    "                        validation_data=(X_test, y_test),\n",
    "                        batch_size=64, \n",
    "                        epochs=500, \n",
    "                        callbacks=myCallback())"
   ]
  }
 ],
 "metadata": {
  "kernelspec": {
   "display_name": "dbs",
   "language": "python",
   "name": "python3"
  },
  "language_info": {
   "codemirror_mode": {
    "name": "ipython",
    "version": 3
   },
   "file_extension": ".py",
   "mimetype": "text/x-python",
   "name": "python",
   "nbconvert_exporter": "python",
   "pygments_lexer": "ipython3",
   "version": "3.10.12"
  }
 },
 "nbformat": 4,
 "nbformat_minor": 2
}
