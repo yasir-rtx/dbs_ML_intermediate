{
  "cells": [
    {
      "cell_type": "markdown",
      "metadata": {},
      "source": [
        "# Import Library"
      ]
    },
    {
      "cell_type": "code",
      "execution_count": 1,
      "metadata": {
        "colab": {
          "base_uri": "https://localhost:8080/"
        },
        "id": "ApchArtBDRdQ",
        "outputId": "74094269-d89a-4905-bbec-bd60b69045cf"
      },
      "outputs": [],
      "source": [
        "from google_play_scraper import reviews, Sort\n",
        "from pandas import DataFrame"
      ]
    },
    {
      "cell_type": "markdown",
      "metadata": {},
      "source": [
        "## Download data review"
      ]
    },
    {
      "cell_type": "code",
      "execution_count": 2,
      "metadata": {
        "id": "qwuT2jUbDYYO"
      },
      "outputs": [],
      "source": [
        "minecraft_reviews = reviews(\n",
        "    'com.mojang.minecraftpe',\n",
        "    lang = 'id',\n",
        "    country = 'id',\n",
        "    sort = Sort.MOST_RELEVANT,\n",
        "    count = 15000\n",
        ")"
      ]
    },
    {
      "cell_type": "markdown",
      "metadata": {},
      "source": [
        "## Create Dataframe"
      ]
    },
    {
      "cell_type": "code",
      "execution_count": 3,
      "metadata": {
        "colab": {
          "base_uri": "https://localhost:8080/"
        },
        "id": "cqXwWFKdD0YD",
        "outputId": "54f48c78-2d9d-46b8-859e-e59949fc035a"
      },
      "outputs": [
        {
          "name": "stdout",
          "output_type": "stream",
          "text": [
            "Record : 15000 baris\n",
            "Field  : 11 kolom\n"
          ]
        }
      ],
      "source": [
        "minecraft_df = DataFrame(minecraft_reviews[0])\n",
        "\n",
        "x_review, y_review = minecraft_df.shape\n",
        "print(\"Record :\", x_review, \"baris\")\n",
        "print(\"Field  :\", y_review, \"kolom\")"
      ]
    },
    {
      "cell_type": "markdown",
      "metadata": {},
      "source": [
        "# Saving Dataset"
      ]
    },
    {
      "cell_type": "code",
      "execution_count": 4,
      "metadata": {},
      "outputs": [],
      "source": [
        "# Saving daataset\n",
        "minecraft_df.to_csv(\"dataset_minecraft.csv\", index=False)"
      ]
    }
  ],
  "metadata": {
    "colab": {
      "provenance": []
    },
    "kernelspec": {
      "display_name": "Python 3",
      "name": "python3"
    },
    "language_info": {
      "codemirror_mode": {
        "name": "ipython",
        "version": 3
      },
      "file_extension": ".py",
      "mimetype": "text/x-python",
      "name": "python",
      "nbconvert_exporter": "python",
      "pygments_lexer": "ipython3",
      "version": "3.10.12"
    }
  },
  "nbformat": 4,
  "nbformat_minor": 0
}
