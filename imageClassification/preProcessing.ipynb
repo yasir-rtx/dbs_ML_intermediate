{
 "cells": [
  {
   "cell_type": "markdown",
   "metadata": {},
   "source": [
    "# Library"
   ]
  },
  {
   "cell_type": "code",
   "execution_count": 1,
   "metadata": {},
   "outputs": [],
   "source": [
    "import os\n",
    "os.environ['TF_CPP_MIN_LOG_LEVEL'] = '3'"
   ]
  },
  {
   "cell_type": "code",
   "execution_count": 2,
   "metadata": {},
   "outputs": [],
   "source": [
    "import numpy as np"
   ]
  },
  {
   "cell_type": "code",
   "execution_count": 3,
   "metadata": {},
   "outputs": [],
   "source": [
    "np.set_printoptions(linewidth=np.inf)"
   ]
  },
  {
   "cell_type": "markdown",
   "metadata": {},
   "source": [
    "# 1. Data Cleansing\n",
    "Gambar-gambar yang tidak memenuhi standar kualitas kemudian dihapus dari dataset. Hasil dari tahapan ini membantu menghilangkan gangguan dan memastikan model fokus pada fitur-fitur yang penting."
   ]
  },
  {
   "cell_type": "markdown",
   "metadata": {},
   "source": [
    "# 2. Normalisasi\n",
    "Normalisasi adalah proses untuk mengubah rentang nilai piksel dalam gambar sehingga setiap piksel memiliki distribusi yang seragam. Normalisasi membantu dalam menghindari masalah numerik dan mempercepat konvergensi saat pelatihan model."
   ]
  },
  {
   "cell_type": "markdown",
   "metadata": {},
   "source": [
    "# 3. Size Reduction\n",
    "ika diperlukan, Anda dapat menggunakan teknik reduksi dimensi, seperti principal component analysis (PCA) untuk mengurangi dimensi gambar. Teknik ini berguna jika Anda memiliki dataset gambar dengan dimensi tinggi yang dapat menyebabkan masalah komputasi yang berat."
   ]
  },
  {
   "cell_type": "markdown",
   "metadata": {},
   "source": [
    "# 4. Augmentasi Data"
   ]
  },
  {
   "cell_type": "markdown",
   "metadata": {},
   "source": [
    "## 4.1 Flip"
   ]
  },
  {
   "cell_type": "code",
   "execution_count": null,
   "metadata": {},
   "outputs": [],
   "source": [
    "import torch\n",
    "import torchvision.transforms as transforms\n",
    "from PIL import Image\n",
    "import matplotlib.pyplot as plt\n",
    " \n",
    "# Membaca citra\n",
    "image_path = \"kucing.jpg\"\n",
    "image = Image.open(image_path)\n",
    " \n",
    "# Menampilkan citra asli\n",
    "plt.figure(figsize=(8, 4))\n",
    "plt.subplot(1, 3, 1)\n",
    "plt.title(\"Original Image\")\n",
    "plt.imshow(image)\n",
    "plt.axis('off')\n",
    " \n",
    "# Transformasi untuk flip vertikal\n",
    "vertical_flip = transforms.Compose([\n",
    "    transforms.RandomVerticalFlip(p=1)\n",
    "])\n",
    "flipped_image_vertical = vertical_flip(image)\n",
    " \n",
    "# Menampilkan citra setelah flip vertikal\n",
    "plt.subplot(1, 3, 2)\n",
    "plt.title(\"Vertical Flip\")\n",
    "plt.imshow(flipped_image_vertical)\n",
    "plt.axis('off')\n",
    " \n",
    "# Transformasi untuk flip horizontal\n",
    "horizontal_flip = transforms.Compose([\n",
    "    transforms.RandomHorizontalFlip(p=1)\n",
    "])\n",
    "flipped_image_horizontal = horizontal_flip(image)\n",
    " \n",
    "# Menampilkan citra setelah flip horizontal\n",
    "plt.subplot(1, 3, 3)\n",
    "plt.title(\"Horizontal Flip\")\n",
    "plt.imshow(flipped_image_horizontal)\n",
    "plt.axis('off')\n",
    " \n",
    "plt.tight_layout()\n",
    "plt.show()"
   ]
  },
  {
   "cell_type": "markdown",
   "metadata": {},
   "source": [
    "## 4.2 Translasi"
   ]
  },
  {
   "cell_type": "code",
   "execution_count": null,
   "metadata": {},
   "outputs": [],
   "source": [
    "import torch\n",
    "import torchvision.transforms as transforms\n",
    "from PIL import Image\n",
    "import matplotlib.pyplot as plt\n",
    " \n",
    "# Membaca citra\n",
    "image_path = \"kucing.jpg\"\n",
    "image = Image.open(image_path)\n",
    " \n",
    "# Menampilkan citra asli\n",
    "plt.figure(figsize=(8, 4))\n",
    "plt.subplot(1, 3, 1)\n",
    "plt.title(\"Original Image\")\n",
    "plt.imshow(image)\n",
    "plt.axis('off')\n",
    " \n",
    "# Transformasi untuk pergantian horizontal\n",
    "horizontal_shift = transforms.Compose([\n",
    "    transforms.RandomAffine(degrees=0, translate=(0.2, 0)),  # Menggeser citra ke kanan atau kiri secara acak hingga 20% dari lebar gambar\n",
    "])\n",
    "shifted_image_horizontal = horizontal_shift(image)\n",
    " \n",
    "# Menampilkan citra setelah pergantian horizontal\n",
    "plt.subplot(1, 3, 2)\n",
    "plt.title(\"Horizontal Shift\")\n",
    "plt.imshow(shifted_image_horizontal)\n",
    "plt.axis('off')\n",
    " \n",
    "# Transformasi untuk pergantian vertikal\n",
    "vertical_shift = transforms.Compose([\n",
    "    transforms.RandomAffine(degrees=0, translate=(0, 0.2)),  # Menggeser citra ke atas atau bawah secara acak hingga 20% dari tinggi gambar\n",
    "])\n",
    "shifted_image_vertical = vertical_shift(image)\n",
    " \n",
    "# Menampilkan citra setelah pergantian vertikal\n",
    "plt.subplot(1, 3, 3)\n",
    "plt.title(\"Vertical Shift\")\n",
    "plt.imshow(shifted_image_vertical)\n",
    "plt.axis('off')\n",
    " \n",
    "plt.tight_layout()\n",
    "plt.show()"
   ]
  },
  {
   "cell_type": "markdown",
   "metadata": {},
   "source": [
    "## 4.3 Zoom\n",
    "Zoom adalah salah satu teknik augmentasi data dengan cara gambar diperbesar atau diperkecil. Dalam proses ini, gambar diberikan perbesaran atau penyusutan proporsional terhadap ukuran aslinya. Teknik ini membantu model untuk melihat detail-detail kecil dalam gambar dan meningkatkan kemampuan model mengenali objek dengan berbagai skala."
   ]
  },
  {
   "cell_type": "code",
   "execution_count": null,
   "metadata": {},
   "outputs": [],
   "source": []
  },
  {
   "cell_type": "markdown",
   "metadata": {},
   "source": [
    "## 4.4 Rotation"
   ]
  },
  {
   "cell_type": "code",
   "execution_count": null,
   "metadata": {},
   "outputs": [],
   "source": [
    "import torch\n",
    "import torchvision.transforms as transforms\n",
    "from PIL import Image\n",
    "import matplotlib.pyplot as plt\n",
    " \n",
    "# Membaca citra\n",
    "image_path = \"kucing.jpg\"\n",
    "image = Image.open(image_path)\n",
    " \n",
    "# Menampilkan citra asli\n",
    "plt.figure(figsize=(8, 4))\n",
    "plt.subplot(1, 3, 1)\n",
    "plt.title(\"Original Image\")\n",
    "plt.imshow(image)\n",
    "plt.axis('off')\n",
    " \n",
    "# Transformasi untuk rotasi sebesar 30 derajat searah jarum jam\n",
    "rotation = transforms.Compose([\n",
    "    transforms.RandomRotation(degrees=30)\n",
    "])\n",
    "rotated_image = rotation(image)\n",
    " \n",
    "# Menampilkan citra setelah rotasi\n",
    "plt.subplot(1, 3, 2)\n",
    "plt.title(\"Rotated Image\")\n",
    "plt.imshow(rotated_image)\n",
    "plt.axis('off')\n",
    " \n",
    "# Transformasi untuk rotasi sebesar 30 derajat berlawanan arah jarum jam\n",
    "inverse_rotation = transforms.Compose([\n",
    "    transforms.RandomRotation(degrees=(-30, 0))\n",
    "])\n",
    "inverse_rotated_image = inverse_rotation(image)\n",
    " \n",
    "# Menampilkan citra setelah rotasi berlawanan arah jarum jam\n",
    "plt.subplot(1, 3, 3)\n",
    "plt.title(\"Inverse Rotated Image\")\n",
    "plt.imshow(inverse_rotated_image)\n",
    "plt.axis('off')\n",
    " \n",
    "plt.tight_layout()\n",
    "plt.show()"
   ]
  },
  {
   "cell_type": "markdown",
   "metadata": {},
   "source": [
    "## 4.5 Brightness Adjustment"
   ]
  },
  {
   "cell_type": "code",
   "execution_count": null,
   "metadata": {},
   "outputs": [],
   "source": [
    "import torch\n",
    "import torchvision.transforms as transforms\n",
    "from PIL import Image\n",
    "import matplotlib.pyplot as plt\n",
    " \n",
    "# Membaca citra\n",
    "image_path = \"kucing.jpg\"\n",
    "image = Image.open(image_path)\n",
    " \n",
    "# Menampilkan citra asli\n",
    "plt.figure(figsize=(8, 4))\n",
    "plt.subplot(1, 3, 1)\n",
    "plt.title(\"Original Image\")\n",
    "plt.imshow(image)\n",
    "plt.axis('off')\n",
    " \n",
    "# Transformasi untuk penyesuaian kecerahan (+50%)\n",
    "brightness_adjustment = transforms.Compose([\n",
    "    transforms.ColorJitter(brightness=0.5)  # Penyesuaian kecerahan sebesar +50%\n",
    "])\n",
    "brightened_image = brightness_adjustment(image)\n",
    " \n",
    "# Menampilkan citra setelah penyesuaian kecerahan\n",
    "plt.subplot(1, 3, 2)\n",
    "plt.title(\"Brightened Image\")\n",
    "plt.imshow(brightened_image)\n",
    "plt.axis('off')\n",
    " \n",
    "# Transformasi untuk penyesuaian kecerahan (-50%)\n",
    "darkness_adjustment = transforms.Compose([\n",
    "    transforms.ColorJitter(brightness=0.5)  # Penyesuaian kecerahan sebesar +50%\n",
    "])\n",
    "darkened_image = darkness_adjustment(image)\n",
    " \n",
    "# Menampilkan citra setelah penyesuaian kecerahan\n",
    "plt.subplot(1, 3, 3)\n",
    "plt.title(\"Darkened Image\")\n",
    "plt.imshow(darkened_image)\n",
    "plt.axis('off')\n",
    " \n",
    "plt.tight_layout()\n",
    "plt.show()"
   ]
  },
  {
   "cell_type": "markdown",
   "metadata": {},
   "source": [
    "## 4.6 Contrast Adjustment"
   ]
  },
  {
   "cell_type": "code",
   "execution_count": null,
   "metadata": {},
   "outputs": [],
   "source": [
    "import torch\n",
    "import torchvision.transforms as transforms\n",
    "from PIL import Image\n",
    "import matplotlib.pyplot as plt\n",
    " \n",
    "# Membaca citra\n",
    "image_path = \"kucing.jpg\"\n",
    "image = Image.open(image_path)\n",
    " \n",
    "# Menampilkan citra asli\n",
    "plt.figure(figsize=(8, 4))\n",
    "plt.subplot(1, 3, 1)\n",
    "plt.title(\"Original Image\")\n",
    "plt.imshow(image)\n",
    "plt.axis('off')\n",
    " \n",
    "# Transformasi untuk penyesuaian kontras (+50%)\n",
    "contrast_adjustment = transforms.Compose([\n",
    "    transforms.ColorJitter(contrast=0.5)  # Penyesuaian kontras sebesar +50%\n",
    "])\n",
    "high_contrast_image = contrast_adjustment(image)\n",
    " \n",
    "# Menampilkan citra setelah penyesuaian kontras\n",
    "plt.subplot(1, 3, 2)\n",
    "plt.title(\"High Contrast Image\")\n",
    "plt.imshow(high_contrast_image)\n",
    "plt.axis('off')\n",
    " \n",
    "# Transformasi untuk penyesuaian kontras (-50%)\n",
    "low_contrast_adjustment = transforms.Compose([\n",
    "    transforms.ColorJitter(contrast=0.5)  # Penyesuaian kontras sebesar +50%\n",
    "])\n",
    "low_contrast_image = low_contrast_adjustment(image)\n",
    " \n",
    "# Menampilkan citra setelah penyesuaian kontras\n",
    "plt.subplot(1, 3, 3)\n",
    "plt.title(\"Low Contrast Image\")\n",
    "plt.imshow(low_contrast_image)\n",
    "plt.axis('off')\n",
    " \n",
    "plt.tight_layout()\n",
    "plt.show()"
   ]
  },
  {
   "cell_type": "markdown",
   "metadata": {},
   "source": [
    "## 4.7 Cropping"
   ]
  },
  {
   "cell_type": "code",
   "execution_count": null,
   "metadata": {},
   "outputs": [],
   "source": [
    "import torch\n",
    "import torchvision.transforms as transforms\n",
    "from PIL import Image\n",
    "import matplotlib.pyplot as plt\n",
    " \n",
    "# Fungsi untuk melakukan cropping pada gambar\n",
    "def crop_image(image, size):\n",
    "    width, height = image.size\n",
    "    left = (width - size) / 2\n",
    "    top = (height - size) / 2\n",
    "    right = (width + size) / 2\n",
    "    bottom = (height + size) / 2\n",
    "    cropped_image = image.crop((left, top, right, bottom))\n",
    "    return cropped_image\n",
    " \n",
    "# Membaca citra\n",
    "image_path = \"kucing.jpg\"\n",
    "image = Image.open(image_path)\n",
    " \n",
    "# Ukuran cropping yang akan diuji\n",
    "crop_sizes = [100, 150, 200, 250]\n",
    " \n",
    "# Menampilkan citra asli\n",
    "plt.figure(figsize=(12, 6))\n",
    "plt.subplot(1, len(crop_sizes) + 1, 1)\n",
    "plt.title(\"Original Image\")\n",
    "plt.imshow(image)\n",
    "plt.axis('off')\n",
    " \n",
    "# Melakukan cropping pada gambar dengan berbagai ukuran\n",
    "for i, size in enumerate(crop_sizes):\n",
    "    cropped_image = crop_image(image, size)\n",
    "    plt.subplot(1, len(crop_sizes) + 1, i + 2)\n",
    "    plt.title(f\"Cropped {size}x{size}\")\n",
    "    plt.imshow(cropped_image)\n",
    "    plt.axis('off')\n",
    " \n",
    "plt.tight_layout()\n",
    "plt.show()"
   ]
  },
  {
   "cell_type": "markdown",
   "metadata": {},
   "source": [
    "## 4.8 Shearing"
   ]
  },
  {
   "cell_type": "code",
   "execution_count": null,
   "metadata": {},
   "outputs": [],
   "source": [
    "import torchvision.transforms as transforms\n",
    "from PIL import Image\n",
    "import matplotlib.pyplot as plt\n",
    " \n",
    "# Membaca citra\n",
    "img = Image.open('kucing.jpg')\n",
    " \n",
    "# Membuat transformasi RandomAffine untuk shearing\n",
    "shear = transforms.RandomAffine(0, shear=20)\n",
    " \n",
    "# Membuat subplot untuk menampilkan hasil shearing\n",
    "fig, axes = plt.subplots(3, 3, figsize=(8, 7))\n",
    "fig.subplots_adjust(wspace=0.3)\n",
    " \n",
    "# Menampilkan gambar-gambar hasil shearing\n",
    "for ax in axes.flatten():\n",
    "    # Menerapkan transformasi shearing pada gambar\n",
    "    sheared_img = shear(img)\n",
    "    # Menampilkan gambar hasil shearing\n",
    "    ax.imshow(sheared_img)\n",
    "    ax.axis('off')\n",
    " \n",
    "plt.show()"
   ]
  },
  {
   "cell_type": "markdown",
   "metadata": {},
   "source": [
    "# 5. Resolusi\n",
    "Pilih resolusi yang tepat untuk gambar-gambar tergantung pada kompleksitas tugas dan kebutuhan komputasi Anda. Kadang-kadang, Anda mungkin perlu menyesuaikan resolusi gambar untuk mempercepat waktu pelatihan atau memperbaiki kinerja model."
   ]
  },
  {
   "cell_type": "markdown",
   "metadata": {},
   "source": [
    "# 6. Labelling\n",
    "Pastikan setiap gambar diberi label dengan benar sesuai dengan kategori atau kelas yang tepat. Label yang akurat sangat penting dalam melatih model dan mengevaluasi kinerjanya."
   ]
  }
 ],
 "metadata": {
  "kernelspec": {
   "display_name": "tf2.13",
   "language": "python",
   "name": "python3"
  },
  "language_info": {
   "codemirror_mode": {
    "name": "ipython",
    "version": 3
   },
   "file_extension": ".py",
   "mimetype": "text/x-python",
   "name": "python",
   "nbconvert_exporter": "python",
   "pygments_lexer": "ipython3",
   "version": "3.10.12"
  }
 },
 "nbformat": 4,
 "nbformat_minor": 2
}
