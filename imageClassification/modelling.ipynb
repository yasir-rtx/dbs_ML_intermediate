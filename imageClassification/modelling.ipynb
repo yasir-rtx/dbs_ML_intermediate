{
 "cells": [
  {
   "cell_type": "markdown",
   "metadata": {},
   "source": [
    "# Library"
   ]
  },
  {
   "cell_type": "code",
   "execution_count": 1,
   "metadata": {},
   "outputs": [],
   "source": [
    "import os\n",
    "os.environ['TF_CPP_MIN_LOG_LEVEL'] = '3'"
   ]
  },
  {
   "cell_type": "code",
   "execution_count": 2,
   "metadata": {},
   "outputs": [],
   "source": [
    "from keras.layers import Conv2D, MaxPooling2D, Flatten, Dense, Dropout\n",
    "from keras.models import Sequential\n",
    "\n",
    "import numpy as np"
   ]
  },
  {
   "cell_type": "code",
   "execution_count": 3,
   "metadata": {},
   "outputs": [],
   "source": [
    "np.set_printoptions(linewidth=np.inf)"
   ]
  },
  {
   "cell_type": "markdown",
   "metadata": {},
   "source": [
    "# Modelling"
   ]
  },
  {
   "cell_type": "code",
   "execution_count": 4,
   "metadata": {},
   "outputs": [],
   "source": [
    "IMG_HEIGHT = 128\n",
    "IMG_WIDTH = 128\n",
    "IMG_CHANNELS = 3\n",
    "NUM_CLASSES = 10"
   ]
  },
  {
   "cell_type": "code",
   "execution_count": 6,
   "metadata": {},
   "outputs": [
    {
     "name": "stdout",
     "output_type": "stream",
     "text": [
      "Model: \"sequential_1\"\n",
      "_________________________________________________________________\n",
      " Layer (type)                Output Shape              Param #   \n",
      "=================================================================\n",
      " conv2d_3 (Conv2D)           (None, 126, 126, 32)      896       \n",
      "                                                                 \n",
      " max_pooling2d_2 (MaxPoolin  (None, 63, 63, 32)        0         \n",
      " g2D)                                                            \n",
      "                                                                 \n",
      " conv2d_4 (Conv2D)           (None, 61, 61, 64)        18496     \n",
      "                                                                 \n",
      " max_pooling2d_3 (MaxPoolin  (None, 30, 30, 64)        0         \n",
      " g2D)                                                            \n",
      "                                                                 \n",
      " conv2d_5 (Conv2D)           (None, 28, 28, 64)        36928     \n",
      "                                                                 \n",
      " flatten_1 (Flatten)         (None, 50176)             0         \n",
      "                                                                 \n",
      " dense_2 (Dense)             (None, 64)                3211328   \n",
      "                                                                 \n",
      " dense_3 (Dense)             (None, 10)                650       \n",
      "                                                                 \n",
      "=================================================================\n",
      "Total params: 3268298 (12.47 MB)\n",
      "Trainable params: 3268298 (12.47 MB)\n",
      "Non-trainable params: 0 (0.00 Byte)\n",
      "_________________________________________________________________\n"
     ]
    }
   ],
   "source": [
    "# Inisialisasi model Sequential\n",
    "model = Sequential()\n",
    " \n",
    "# Tambahkan layer konvolusi pertama\n",
    "model.add(Conv2D(32, (3, 3), activation='relu', input_shape=(IMG_HEIGHT, IMG_WIDTH, IMG_CHANNELS)))\n",
    " \n",
    "# Tambahkan layer max pooling pertama\n",
    "model.add(MaxPooling2D((2, 2)))\n",
    " \n",
    "# Tambahkan layer konvolusi kedua\n",
    "model.add(Conv2D(64, (3, 3), activation='relu'))\n",
    " \n",
    "# Tambahkan layer max pooling kedua\n",
    "model.add(MaxPooling2D((2, 2)))\n",
    " \n",
    "# Tambahkan layer konvolusi ketiga\n",
    "model.add(Conv2D(64, (3, 3), activation='relu'))\n",
    " \n",
    "# Flatten layer untuk meratakan output\n",
    "model.add(Flatten())\n",
    " \n",
    "# Tambahkan layer dense dengan 64 neuron\n",
    "model.add(Dense(64, activation='relu'))\n",
    " \n",
    "# Tambahkan output layer dengan fungsi aktivasi softmax\n",
    "model.add(Dense(NUM_CLASSES, activation='softmax'))\n",
    "\n",
    "model.summary()"
   ]
  },
  {
   "cell_type": "markdown",
   "metadata": {},
   "source": [
    "## Dropout\n",
    "Penambahan lapisan dropout dalam arsitektur CNN berfungsi untuk mencegah overfitting dan meningkatkan kemampuan generalisasi model."
   ]
  },
  {
   "cell_type": "code",
   "execution_count": 9,
   "metadata": {},
   "outputs": [
    {
     "name": "stdout",
     "output_type": "stream",
     "text": [
      "Model: \"sequential_4\"\n",
      "_________________________________________________________________\n",
      " Layer (type)                Output Shape              Param #   \n",
      "=================================================================\n",
      " conv2d_12 (Conv2D)          (None, 126, 126, 32)      2912      \n",
      "                                                                 \n",
      " max_pooling2d_8 (MaxPoolin  (None, 63, 63, 32)        0         \n",
      " g2D)                                                            \n",
      "                                                                 \n",
      " dropout_8 (Dropout)         (None, 63, 63, 32)        0         \n",
      "                                                                 \n",
      " conv2d_13 (Conv2D)          (None, 61, 61, 64)        18496     \n",
      "                                                                 \n",
      " max_pooling2d_9 (MaxPoolin  (None, 30, 30, 64)        0         \n",
      " g2D)                                                            \n",
      "                                                                 \n",
      " dropout_9 (Dropout)         (None, 30, 30, 64)        0         \n",
      "                                                                 \n",
      " conv2d_14 (Conv2D)          (None, 28, 28, 64)        36928     \n",
      "                                                                 \n",
      " flatten_4 (Flatten)         (None, 50176)             0         \n",
      "                                                                 \n",
      " dropout_10 (Dropout)        (None, 50176)             0         \n",
      "                                                                 \n",
      " dense_8 (Dense)             (None, 64)                3211328   \n",
      "                                                                 \n",
      " dropout_11 (Dropout)        (None, 64)                0         \n",
      "                                                                 \n",
      " dense_9 (Dense)             (None, 10)                650       \n",
      "                                                                 \n",
      "=================================================================\n",
      "Total params: 3270314 (12.48 MB)\n",
      "Trainable params: 3270314 (12.48 MB)\n",
      "Non-trainable params: 0 (0.00 Byte)\n",
      "_________________________________________________________________\n"
     ]
    }
   ],
   "source": [
    "# Inisialisasi model Sequential\n",
    "model = Sequential()\n",
    " \n",
    "# Tambahkan layer konvolusi pertama\n",
    "model.add(Conv2D(32, (3, 3), activation='relu', input_shape=(IMG_HEIGHT, IMG_WIDTH, NUM_CLASSES)))\n",
    " \n",
    "# Tambahkan layer max pooling pertama\n",
    "model.add(MaxPooling2D((2, 2)))\n",
    " \n",
    "# Tambahkan dropout setelah pooling pertama\n",
    "model.add(Dropout(0.25))\n",
    " \n",
    "# Tambahkan layer konvolusi kedua\n",
    "model.add(Conv2D(64, (3, 3), activation='relu'))\n",
    " \n",
    "# Tambahkan layer max pooling kedua\n",
    "model.add(MaxPooling2D((2, 2)))\n",
    " \n",
    "# Tambahkan dropout setelah pooling kedua\n",
    "model.add(Dropout(0.25))\n",
    " \n",
    "# Tambahkan layer konvolusi ketiga\n",
    "model.add(Conv2D(64, (3, 3), activation='relu'))\n",
    " \n",
    "# Flatten layer untuk meratakan output\n",
    "model.add(Flatten())\n",
    " \n",
    "# Tambahkan dropout sebelum dense layer\n",
    "model.add(Dropout(0.5))\n",
    " \n",
    "# Tambahkan layer dense dengan 64 neuron\n",
    "model.add(Dense(64, activation='relu'))\n",
    " \n",
    "# Tambahkan dropout setelah dense layer\n",
    "model.add(Dropout(0.5))\n",
    " \n",
    "# Tambahkan output layer dengan fungsi aktivasi softmax\n",
    "model.add(Dense(NUM_CLASSES, activation='softmax'))\n",
    "\n",
    "model.summary()"
   ]
  },
  {
   "cell_type": "markdown",
   "metadata": {},
   "source": [
    "# Compile"
   ]
  },
  {
   "cell_type": "code",
   "execution_count": 10,
   "metadata": {},
   "outputs": [],
   "source": [
    "# Compile model\n",
    "model.compile(optimizer='adam', loss='categorical_crossentropy', metrics=['accuracy'])"
   ]
  },
  {
   "cell_type": "markdown",
   "metadata": {},
   "source": [
    "# Training"
   ]
  },
  {
   "cell_type": "code",
   "execution_count": 12,
   "metadata": {},
   "outputs": [],
   "source": [
    "from keras.callbacks import ModelCheckpoint, EarlyStopping\n",
    "\n",
    "# Callbacks\n",
    "checkpoint = ModelCheckpoint('best_model.h5', monitor='val_loss', save_best_only=True, mode='min')\n",
    " \n",
    "early_stopping = EarlyStopping(monitor='val_loss', patience=10, restore_best_weights=True)"
   ]
  },
  {
   "cell_type": "code",
   "execution_count": null,
   "metadata": {},
   "outputs": [],
   "source": [
    "# Melatih model\n",
    "history = model.fit(\n",
    "    train_generator,\n",
    "    steps_per_epoch=train_generator.samples // train_generator.batch_size,\n",
    "    epochs=epochs,\n",
    "    validation_data=val_generator,\n",
    "    validation_steps=val_generator.samples // val_generator.batch_size,\n",
    "    callbacks=[checkpoint, early_stopping]\n",
    ")"
   ]
  },
  {
   "cell_type": "markdown",
   "metadata": {},
   "source": [
    "# Evaluasi"
   ]
  },
  {
   "cell_type": "code",
   "execution_count": null,
   "metadata": {},
   "outputs": [],
   "source": [
    "# Evaluasi model menggunakan data pengujian\n",
    "evaluation = model.evaluate(\n",
    "    test_generator,\n",
    "    steps=test_generator.samples // test_generator.batch_size\n",
    ")\n",
    " \n",
    "# Menampilkan hasil evaluasi\n",
    "print(\"Loss:\", evaluation[0])\n",
    "print(\"Accuracy:\", evaluation[1])"
   ]
  }
 ],
 "metadata": {
  "kernelspec": {
   "display_name": "tf2.13",
   "language": "python",
   "name": "python3"
  },
  "language_info": {
   "codemirror_mode": {
    "name": "ipython",
    "version": 3
   },
   "file_extension": ".py",
   "mimetype": "text/x-python",
   "name": "python",
   "nbconvert_exporter": "python",
   "pygments_lexer": "ipython3",
   "version": "3.10.12"
  }
 },
 "nbformat": 4,
 "nbformat_minor": 2
}
