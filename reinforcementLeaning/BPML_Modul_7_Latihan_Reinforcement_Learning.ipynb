{
  "nbformat": 4,
  "nbformat_minor": 0,
  "metadata": {
    "colab": {
      "provenance": [],
      "toc_visible": true
    },
    "kernelspec": {
      "name": "python3",
      "display_name": "Python 3"
    },
    "language_info": {
      "name": "python"
    }
  },
  "cells": [
    {
      "cell_type": "markdown",
      "source": [
        "# **Frozen Lake (Q-Learning)**\n",
        "Frozen Lake adalah salah satu lingkungan dalam pustaka OpenAI Gym yang sering digunakan untuk mengajarkan dan menguji algoritma reinforcement learning. Di sini, agen harus belajar untuk mencapai tujuan di danau beku tanpa jatuh ke dalam lubang es."
      ],
      "metadata": {
        "id": "3KHeFKkkPkDR"
      }
    },
    {
      "cell_type": "markdown",
      "source": [
        "## **Import Modules dan Packages**"
      ],
      "metadata": {
        "id": "ifw95G4rPnii"
      }
    },
    {
      "cell_type": "markdown",
      "source": [
        "\n",
        "Untuk mengimplementasikan algoritma Q-Learning pada lingkungan Frozen Lake, kita memerlukan beberapa modul dan paket dari Python. Berikut ini adalah daftar modul dan paket yang perlu diimpor serta penjelasan singkat mengenai kegunaannya:\n",
        "\n",
        "1. NumPy: Untuk operasi matematika dan manajemen array.\n",
        "2. Gym (OpenAI Gym): Untuk simulasi lingkungan reinforcement learning seperti Frozen Lake."
      ],
      "metadata": {
        "id": "uv--1PmoNtio"
      }
    },
    {
      "cell_type": "markdown",
      "source": [
        "Pertama, pastikan Anda telah menginstal paket `gym` dan `numpy`. Jika belum, Anda bisa menginstalnya menggunakan `pip`:"
      ],
      "metadata": {
        "id": "Yx9ueu39NzPR"
      }
    },
    {
      "cell_type": "code",
      "execution_count": null,
      "metadata": {
        "id": "haYB0uN0O5VM"
      },
      "outputs": [],
      "source": [
        "!pip install gym==0.17.3 --quiet"
      ]
    },
    {
      "cell_type": "markdown",
      "source": [
        "Selanjutnya mengimpor modul dan paket yang dibutuhkan."
      ],
      "metadata": {
        "id": "qgmWD1GSOMx_"
      }
    },
    {
      "cell_type": "code",
      "source": [
        "import numpy as np\n",
        "import gym\n",
        "import pickle"
      ],
      "metadata": {
        "id": "TK1YKkXKPk0v"
      },
      "execution_count": null,
      "outputs": []
    },
    {
      "cell_type": "markdown",
      "source": [
        "## **Inisialisasi Environment**"
      ],
      "metadata": {
        "id": "aW35UbipPt8h"
      }
    },
    {
      "cell_type": "markdown",
      "source": [
        "### Peta Frozen Lake\n",
        "\n",
        "Frozen Lake adalah sebuah permainan grid di mana seorang agen harus bergerak dari posisi awal (start, `S`) ke posisi tujuan (goal, `G`) melalui petak-petak es yang aman (frozen, `F`) sambil menghindari lubang (hole, `H`). Peta ini diwakili dalam bentuk string dua dimensi, di mana setiap elemen string adalah sebuah baris dalam grid.\n",
        "\n",
        "### Struktur Peta\n",
        "\n",
        "Mari kita bahas setiap karakter dalam peta:\n",
        "- **S**: Start, posisi awal agen.\n",
        "- **F**: Frozen, petak es yang aman untuk dilewati.\n",
        "- **H**: Hole, lubang yang menyebabkan agen jatuh dan episode berakhir.\n",
        "- **G**: Goal, tujuan akhir yang harus dicapai oleh agen.\n",
        "\n",
        "Berikut adalah daftar peta yang akan dibuat:\n",
        "\n",
        "```python\n",
        "peta = [\n",
        "    ['SFFF', 'FHFH', 'FFFH', 'HFFG'],\n",
        "    ['SFFF', 'FFHF', 'HFFF', 'HFFG'],\n",
        "    ['SHFF', 'FHFH', 'FFFH', 'HHFG'],\n",
        "    ['SFFF', 'HHFF', 'FFFF', 'HFFG'],\n",
        "    ['SFFH', 'FFFH', 'HFFH', 'HHFG']\n",
        "]\n",
        "```\n",
        "\n",
        "### Penjelasan Setiap Peta\n",
        "\n",
        "Setiap elemen dalam daftar `peta` adalah sebuah peta dengan ukuran 4x4. Mari kita lihat masing-masing peta secara detail:\n",
        "\n",
        "1. **Peta 1:**\n",
        "   ```\n",
        "   S F F F\n",
        "   F H F H\n",
        "   F F F H\n",
        "   H F F G\n",
        "   ```\n",
        "   - `S` (Start) di kiri atas (0, 0).\n",
        "   - `G` (Goal) di kanan bawah (3, 3).\n",
        "   - Lubang (`H`) tersebar di beberapa tempat, seperti (1, 1), (1, 3), (2, 3), dan (3, 0).\n",
        "\n",
        "2. **Peta 2:**\n",
        "   ```\n",
        "   S F F F\n",
        "   F F H F\n",
        "   H F F F\n",
        "   H F F G\n",
        "   ```\n",
        "   - `S` di kiri atas (0, 0).\n",
        "   - `G` di kanan bawah (3, 3).\n",
        "   - Lubang (`H`) di (2, 0), (1, 2), dan (3, 0).\n",
        "\n",
        "3. **Peta 3:**\n",
        "   ```\n",
        "   S H F F\n",
        "   F H F H\n",
        "   F F F H\n",
        "   H H F G\n",
        "   ```\n",
        "   - `S` di kiri atas (0, 0).\n",
        "   - `G` di kanan bawah (3, 3).\n",
        "   - Lubang (`H`) di (0, 1), (1, 1), (1, 3), (2, 3), (3, 0), dan (3, 1).\n",
        "\n",
        "4. **Peta 4:**\n",
        "   ```\n",
        "   S F F F\n",
        "   H H F F\n",
        "   F F F F\n",
        "   H F F G\n",
        "   ```\n",
        "   - `S` di kiri atas (0, 0).\n",
        "   - `G` di kanan bawah (3, 3).\n",
        "   - Lubang (`H`) di (1, 0), (1, 1), dan (3, 0).\n",
        "\n",
        "5. **Peta 5:**\n",
        "   ```\n",
        "   S F F H\n",
        "   F F F H\n",
        "   H F F H\n",
        "   H H F G\n",
        "   ```\n",
        "   - `S` di kiri atas (0, 0).\n",
        "   - `G` di kanan bawah (3, 3).\n",
        "   - Lubang (`H`) di (0, 3), (1, 3), (2, 0), (2, 3), (3, 0), dan (3, 1)."
      ],
      "metadata": {
        "id": "cAeX8G3SPKzr"
      }
    },
    {
      "cell_type": "code",
      "source": [
        "# Membuat daftar peta\n",
        "peta = [\n",
        "    ['SFFF','FHFH','FFFH','HFFG'],\n",
        "    ['SFFF','FFHF','HFFF','HFFG'],\n",
        "    ['SHFF','FHFH','FFFH','HHFG'],\n",
        "    ['SFFF','HHFF','FFFF','HFFG'],\n",
        "    ['SFFH','FFFH','HFFH','HHFG']\n",
        "]"
      ],
      "metadata": {
        "id": "AdoVbfurPuZD"
      },
      "execution_count": null,
      "outputs": []
    },
    {
      "cell_type": "markdown",
      "source": [
        "Baris kode `env = gym.make(\"FrozenLake-v0\", is_slippery=False, desc=peta[0])` membuat lingkungan `FrozenLake-v0` dengan menggunakan peta pertama dari daftar peta yang disediakan (`peta[0]`). Dengan `is_slippery=False`, permukaan danau tidak licin, membuat pergerakan agen menjadi deterministik. Variabel `env` menyimpan instance dari lingkungan ini untuk melatih agen dengan algoritma pembelajaran penguatan seperti Q-Learning."
      ],
      "metadata": {
        "id": "fTMPnfvOPrF8"
      }
    },
    {
      "cell_type": "code",
      "source": [
        "# Load Environment\n",
        "env = gym.make(\"FrozenLake-v0\",is_slippery=False, desc=peta[0])"
      ],
      "metadata": {
        "id": "JB8ZcmImPvUS"
      },
      "execution_count": null,
      "outputs": []
    },
    {
      "cell_type": "markdown",
      "source": [
        "Baris kode di bawah digunakan untuk menghitung berapa banyak petak atau posisi yang tersedia di atas permukaan es (state) dan berapa banyak langkah yang dapat diambil oleh agen untuk bergerak di sekitar permukaan es (action)."
      ],
      "metadata": {
        "id": "NzBiJSWaP5k4"
      }
    },
    {
      "cell_type": "code",
      "source": [
        "n_observations = env.observation_space.n\n",
        "n_actions      = env.action_space.n\n",
        "\n",
        "print('Banyak State  : ' + str(n_observations))\n",
        "print('Banyak Action : ' + str(n_actions))"
      ],
      "metadata": {
        "colab": {
          "base_uri": "https://localhost:8080/"
        },
        "id": "A8WXRzPYPxss",
        "outputId": "1051541b-c067-4c6d-b98c-dcecb6011f38"
      },
      "execution_count": null,
      "outputs": [
        {
          "output_type": "stream",
          "name": "stdout",
          "text": [
            "Banyak State  : 16\n",
            "Banyak Action : 4\n"
          ]
        }
      ]
    },
    {
      "cell_type": "markdown",
      "source": [
        "Pertama, `n_observations = env.observation_space.n` mengambil jumlah petak di atas permukaan es, sementara `n_actions = env.action_space.n` mengambil jumlah langkah yang bisa diambil oleh agen, seperti maju, mundur, atau ke samping.\n",
        "\n",
        "Kemudian, kedua pernyataan `print` digunakan untuk mencetak jumlah petak dan jumlah langkah ke layar agar kita dapat melihat berapa banyak petak dan langkah yang ada dalam permainan tersebut.\n",
        "\n",
        "- Hasil \"Banyak State: 16\" berarti terdapat total 16 petak atau posisi yang dapat diakses oleh agen di atas permukaan es dalam permainan Frozen Lake. Masing-masing petak mewakili satu keadaan (state) yang dapat diamati oleh agen\n",
        "- Hasil \"Banyak Action: 4\" berarti agen memiliki empat aksi yang dapat diambil dalam setiap keadaan. Dalam permainan Frozen Lake, agen dapat memilih antara empat aksi: \"maju\" (up), \"mundur\" (down), \"ke kiri\" (left), dan \"ke kanan\" (right)."
      ],
      "metadata": {
        "id": "aovnNtfzP_5z"
      }
    },
    {
      "cell_type": "code",
      "source": [
        "ACTION = [\"KIRI\",\"BAWAH\",\"KANAN\",\"ATAS\"]"
      ],
      "metadata": {
        "id": "H9dkIRTPP1An"
      },
      "execution_count": null,
      "outputs": []
    },
    {
      "cell_type": "markdown",
      "source": [
        "Variabel `ACTION` adalah daftar yang berisi empat string: \"KIRI\", \"BAWAH\", \"KANAN\", dan \"ATAS\". Setiap string mewakili salah satu dari empat aksi yang dapat diambil oleh agen dalam permainan Frozen Lake. Berikut adalah makna dari setiap aksi:\n",
        "\n",
        "- \"KIRI\": Agen bergerak ke kiri.\n",
        "- \"BAWAH\": Agen bergerak ke bawah.\n",
        "- \"KANAN\": Agen bergerak ke kanan.\n",
        "- \"ATAS\": Agen bergerak ke atas.\n",
        "\n",
        "Dengan menggunakan daftar ini, kita dapat merujuk ke aksi yang diambil oleh agen dengan menggunakan indeks dalam daftar. Misalnya, untuk mengambil aksi \"KIRI\", kita akan menggunakan `ACTION[0]`, untuk \"BAWAH\" akan menggunakan `ACTION[1]`, dan seterusnya."
      ],
      "metadata": {
        "id": "USESFYuXQYe5"
      }
    },
    {
      "cell_type": "code",
      "source": [
        "env.reset()\n",
        "env.render()"
      ],
      "metadata": {
        "colab": {
          "base_uri": "https://localhost:8080/"
        },
        "id": "MmAkvVIeP2S1",
        "outputId": "afec70ea-3929-4803-ab80-866d941ea143"
      },
      "execution_count": null,
      "outputs": [
        {
          "output_type": "stream",
          "name": "stdout",
          "text": [
            "\n",
            "\u001b[41mS\u001b[0mFFF\n",
            "FHFH\n",
            "FFFH\n",
            "HFFG\n"
          ]
        }
      ]
    },
    {
      "cell_type": "markdown",
      "source": [
        "Perintah `env.reset()` digunakan untuk mengatur ulang lingkungan ke keadaan awalnya, yang berarti mengatur ulang agen ke posisi awalnya di permukaan es. Ini berguna untuk memulai episode baru dalam permainan.\n",
        "\n",
        "Sementara perintah `env.render()` digunakan untuk menampilkan visualisasi lingkungan permainan Frozen Lake ke layar. Ini memperlihatkan keadaan terbaru dari permainan, termasuk posisi agen, tujuan, petak es, dan lubang.\n",
        "\n",
        "Ketika kedua perintah digabungkan, `env.reset()` akan mengatur ulang permainan ke keadaan awalnya dan `env.render()` akan menampilkan visualisasi permainan dalam keadaan tersebut."
      ],
      "metadata": {
        "id": "v344ukXZQf3x"
      }
    },
    {
      "cell_type": "code",
      "source": [
        "# Langkah 1 (ke Kanan)\n",
        "new_state, reward, done, info = env.step(2)\n",
        "\n",
        "# Menampilkan informasi\n",
        "print(f\"New State : {new_state}\")\n",
        "print(f\"Reward    : {reward}\")\n",
        "print(f\"Done      : {done}\")\n",
        "\n",
        "# Menampilkan visualisasi lingkungan\n",
        "env.render()"
      ],
      "metadata": {
        "colab": {
          "base_uri": "https://localhost:8080/"
        },
        "id": "OVLve3CWP6iP",
        "outputId": "1d3240d4-66e4-4190-ce14-8387bd7c3bf8"
      },
      "execution_count": null,
      "outputs": [
        {
          "output_type": "stream",
          "name": "stdout",
          "text": [
            "New State : 1\n",
            "Reward    : 0.0\n",
            "Done      : False\n",
            "  (Right)\n",
            "S\u001b[41mF\u001b[0mFF\n",
            "FHFH\n",
            "FFFH\n",
            "HFFG\n"
          ]
        }
      ]
    },
    {
      "cell_type": "markdown",
      "source": [
        "Langkah pertama yang diambil adalah perintah `env.step(2)`, yang berarti agen mencoba untuk bergerak ke kanan. Kemudian, kode mencetak hasil langkah tersebut: posisi baru agen (`New State`), reward yang diterima (`Reward`), dan apakah episode permainan telah selesai (`Done`). Setelah itu, perintah `env.render()` digunakan untuk menampilkan visualisasi lingkungan permainan Frozen Lake ke layar dalam keadaan baru setelah langkah diambil."
      ],
      "metadata": {
        "id": "H-fBxMkORcNj"
      }
    },
    {
      "cell_type": "code",
      "source": [
        "# Langkah 2 (ke Kanan)\n",
        "new_state, reward, done, info = env.step(2)\n",
        "\n",
        "# Menampilkan informasi\n",
        "print(f\"New State : {new_state}\")\n",
        "print(f\"Reward    : {reward}\")\n",
        "print(f\"Done      : {done}\")\n",
        "\n",
        "# Menampilkan visualisasi lingkungan\n",
        "env.render()"
      ],
      "metadata": {
        "colab": {
          "base_uri": "https://localhost:8080/"
        },
        "id": "yTkDEAFjP-8d",
        "outputId": "c52b3097-2cb0-4958-92ee-2b924a819a14"
      },
      "execution_count": null,
      "outputs": [
        {
          "output_type": "stream",
          "name": "stdout",
          "text": [
            "New State : 2\n",
            "Reward    : 0.0\n",
            "Done      : False\n",
            "  (Right)\n",
            "SF\u001b[41mF\u001b[0mF\n",
            "FHFH\n",
            "FFFH\n",
            "HFFG\n"
          ]
        }
      ]
    },
    {
      "cell_type": "markdown",
      "source": [
        "Langkah kedua adalah agen mencoba bergerak ke kanan lagi dengan perintah `env.step(2)`. Hasil langkahnya, seperti posisi baru agen (`New State`), reward yang diterima (`Reward`), dan apakah episode permainan telah selesai (`Done`), dicetak. Setelah itu, perintah `env.render()` digunakan untuk menampilkan visualisasi lingkungan permainan Frozen Lake ke layar dalam keadaan baru setelah langkah kedua diambil."
      ],
      "metadata": {
        "id": "ryI7aPiwRnro"
      }
    },
    {
      "cell_type": "code",
      "source": [
        "# Langkah 3 (ke Bawah)\n",
        "new_state, reward, done, info = env.step(1)\n",
        "\n",
        "# Menampilkan informasi\n",
        "print('New State : {}'.format(new_state))\n",
        "print('Reward    : {}'.format(reward))\n",
        "print('Done      : {}'.format(done))\n",
        "\n",
        "# Menampilkan visualisasi lingkungan\n",
        "env.render()"
      ],
      "metadata": {
        "colab": {
          "base_uri": "https://localhost:8080/"
        },
        "id": "oHneMCsmQA7Q",
        "outputId": "3f9946ad-d7a2-4e8c-af69-2c2fe4f5730c"
      },
      "execution_count": null,
      "outputs": [
        {
          "output_type": "stream",
          "name": "stdout",
          "text": [
            "New State : 6\n",
            "Reward    : 0.0\n",
            "Done      : False\n",
            "  (Down)\n",
            "SFFF\n",
            "FH\u001b[41mF\u001b[0mH\n",
            "FFFH\n",
            "HFFG\n"
          ]
        }
      ]
    },
    {
      "cell_type": "markdown",
      "source": [
        "Langkah ketiga adalah agen mencoba bergerak ke bawah dengan perintah `env.step(1)`. Hasil langkahnya dicetak, termasuk posisi baru agen (`New State`), reward yang diterima (`Reward`), dan apakah episode permainan telah selesai (`Done`). Kemudian, perintah `env.render()` digunakan untuk menampilkan visualisasi lingkungan permainan Frozen Lake ke layar dalam keadaan baru setelah langkah ketiga diambil."
      ],
      "metadata": {
        "id": "B97K3CqgRsr9"
      }
    },
    {
      "cell_type": "code",
      "source": [
        "# Langkah 4 (ke Bawah)\n",
        "new_state, reward, done, info = env.step(1)\n",
        "\n",
        "# Menampilkan informasi\n",
        "print('New State : {}'.format(new_state))\n",
        "print('Reward    : {}'.format(reward))\n",
        "print('Done      : {}'.format(done))\n",
        "\n",
        "# Menampilkan visualisasi lingkungan\n",
        "env.render()"
      ],
      "metadata": {
        "colab": {
          "base_uri": "https://localhost:8080/"
        },
        "id": "x5KSDRqEQCRt",
        "outputId": "6f59cd9b-f8c7-4ed6-941f-a1faf8eca549"
      },
      "execution_count": null,
      "outputs": [
        {
          "output_type": "stream",
          "name": "stdout",
          "text": [
            "New State : 10\n",
            "Reward    : 0.0\n",
            "Done      : False\n",
            "  (Down)\n",
            "SFFF\n",
            "FHFH\n",
            "FF\u001b[41mF\u001b[0mH\n",
            "HFFG\n"
          ]
        }
      ]
    },
    {
      "cell_type": "markdown",
      "source": [
        "Langkah keempat adalah agen mencoba bergerak ke bawah dengan perintah `env.step(1)`. Hasil langkahnya dicetak, termasuk posisi baru agen (`New State`), reward yang diterima (`Reward`), dan apakah episode permainan telah selesai (`Done`). Setelah itu, perintah `env.render()` digunakan untuk menampilkan visualisasi lingkungan permainan Frozen Lake ke layar dalam keadaan baru setelah langkah keempat diambil."
      ],
      "metadata": {
        "id": "kpph4tf3RwuL"
      }
    },
    {
      "cell_type": "code",
      "source": [
        "# Langkah 5 (ke Bawah)\n",
        "new_state, reward, done, info = env.step(1)\n",
        "\n",
        "# Menampilkan informasi\n",
        "print(f\"New State : {new_state}\")\n",
        "print(f\"Reward    : {reward}\")\n",
        "print(f\"Done      : {done}\")\n",
        "\n",
        "# Menampilkan visualisasi lingkungan\n",
        "env.render()"
      ],
      "metadata": {
        "colab": {
          "base_uri": "https://localhost:8080/"
        },
        "id": "MR6eQL84QDje",
        "outputId": "510b1bc0-d509-4041-98e6-debb8d18ad85"
      },
      "execution_count": null,
      "outputs": [
        {
          "output_type": "stream",
          "name": "stdout",
          "text": [
            "New State : 14\n",
            "Reward    : 0.0\n",
            "Done      : False\n",
            "  (Down)\n",
            "SFFF\n",
            "FHFH\n",
            "FFFH\n",
            "HF\u001b[41mF\u001b[0mG\n"
          ]
        }
      ]
    },
    {
      "cell_type": "markdown",
      "source": [
        "Langkah kelima adalah agen mencoba bergerak ke bawah dengan perintah `env.step(1)`. Hasil langkahnya dicetak, termasuk posisi baru agen (`New State`), reward yang diterima (`Reward`), dan apakah episode permainan telah selesai (`Done`). Kemudian, perintah `env.render()` digunakan untuk menampilkan visualisasi lingkungan permainan Frozen Lake ke layar dalam keadaan baru setelah langkah kelima diambil."
      ],
      "metadata": {
        "id": "mmHbFkvBR0UZ"
      }
    },
    {
      "cell_type": "code",
      "source": [
        "# Langkah 6 (ke Kanan)\n",
        "new_state, reward, done, info = env.step(2)\n",
        "\n",
        "# Menampilkan informasi\n",
        "print(f\"New State : {new_state}\")\n",
        "print(f\"Reward    : {reward}\")\n",
        "print(f\"Done      : {done}\")\n",
        "\n",
        "# Menampilkan visualisasi lingkungan\n",
        "env.render()"
      ],
      "metadata": {
        "colab": {
          "base_uri": "https://localhost:8080/"
        },
        "id": "hm-iPy_JQE2x",
        "outputId": "28aa6495-7d6e-4076-ee7e-5eeed9197e10"
      },
      "execution_count": null,
      "outputs": [
        {
          "output_type": "stream",
          "name": "stdout",
          "text": [
            "New State : 15\n",
            "Reward    : 1.0\n",
            "Done      : True\n",
            "  (Right)\n",
            "SFFF\n",
            "FHFH\n",
            "FFFH\n",
            "HFF\u001b[41mG\u001b[0m\n"
          ]
        }
      ]
    },
    {
      "cell_type": "markdown",
      "source": [
        "Langkah keenam adalah agen mencoba bergerak ke kanan dengan perintah `env.step(2)`. Hasil langkahnya dicetak, termasuk posisi baru agen (`New State`), reward yang diterima (`Reward`), dan apakah episode permainan telah selesai (`Done`). Setelah itu, perintah `env.render()` digunakan untuk menampilkan visualisasi lingkungan permainan Frozen Lake ke layar dalam keadaan baru setelah langkah keenam diambil."
      ],
      "metadata": {
        "id": "O9lnKu4CR4sA"
      }
    },
    {
      "cell_type": "markdown",
      "source": [
        "## **Melakukan Training Model atau Agent**"
      ],
      "metadata": {
        "id": "SRjVKDqTQG9a"
      }
    },
    {
      "cell_type": "code",
      "source": [
        "def train_agent(env, n_episodes=10000, max_iter_episode=100, exploration_proba=1, exploration_decreasing_decay=0.001, min_exploration_proba=0.01, gamma=0.99, lr=0.1):\n",
        "    # Inisialisasi Q-table dengan ukuran berdasarkan jumlah state dan aksi\n",
        "    Q_table = np.zeros((env.observation_space.n, env.action_space.n))\n",
        "\n",
        "    # List untuk menyimpan reward dari setiap episode\n",
        "    rewards_per_episode = []\n",
        "\n",
        "    # Loop melalui setiap episode\n",
        "    for episode in range(n_episodes):\n",
        "        # Reset lingkungan untuk memulai episode baru dan mendapatkan state awal\n",
        "        state = env.reset()\n",
        "\n",
        "        # Inisialisasi total reward episode menjadi 0\n",
        "        episode_reward = 0\n",
        "\n",
        "        # Loop melalui setiap iterasi dalam episode\n",
        "        for _ in range(max_iter_episode):\n",
        "            # Pilih tindakan berdasarkan probabilitas eksplorasi atau menggunakan kebijakan Q\n",
        "            if np.random.uniform(0, 1) < exploration_proba:\n",
        "                action = env.action_space.sample()  # Aksi acak (eksplorasi)\n",
        "            else:\n",
        "                action = np.argmax(Q_table[state, :])  # Aksi terbaik berdasarkan Q-table (eksploitasi)\n",
        "\n",
        "            # Ambil langkah berdasarkan tindakan yang dipilih\n",
        "            next_state, reward, done, _ = env.step(action)\n",
        "\n",
        "            # Update Q-value berdasarkan reward yang diterima dan perkiraan nilai Q di state berikutnya\n",
        "            Q_table[state, action] = (1 - lr) * Q_table[state, action] + lr * (reward + gamma * np.max(Q_table[next_state, :]))\n",
        "\n",
        "            # Tambahkan reward dari langkah ini ke total reward episode\n",
        "            episode_reward += reward\n",
        "            state = next_state  # Pindah ke state berikutnya\n",
        "\n",
        "            # Hentikan episode jika mencapai terminal state\n",
        "            if done:\n",
        "                break\n",
        "\n",
        "        # Kurangi probabilitas eksplorasi seiring berjalannya waktu\n",
        "        exploration_proba = max(min_exploration_proba, np.exp(-exploration_decreasing_decay * episode))\n",
        "\n",
        "        # Simpan total reward episode ke dalam list\n",
        "        rewards_per_episode.append(episode_reward)\n",
        "\n",
        "    # Cetak rata-rata reward per 1000 episode\n",
        "    print(\"Rata-Rata Reward per 1000 Episode\")\n",
        "    for i in range(10):\n",
        "        print((i + 1) * 1000, \" : Rata-Rata Reward: \", np.mean(rewards_per_episode[1000 * i:1000 * (i + 1)]))\n",
        "\n",
        "    # Kembalikan Q-table yang telah dilatih\n",
        "    return Q_table"
      ],
      "metadata": {
        "id": "uMKulS39QHaF"
      },
      "execution_count": null,
      "outputs": []
    },
    {
      "cell_type": "markdown",
      "source": [
        "Fungsi `train_agent` mengimplementasikan algoritma Q-learning untuk melatih agen dalam suatu lingkungan yang diberikan. Selama pelatihan, agen memperbarui tabel Q berdasarkan pengalaman interaksi dengan lingkungan, di mana setiap langkah yang diambil menghasilkan reward yang akan memengaruhi pembelajaran agen.\n",
        "\n",
        "Probabilitas eksplorasi digunakan untuk memutuskan apakah agen akan melakukan aksi acak untuk eksplorasi atau memilih tindakan terbaik berdasarkan tabel Q saat ini untuk eksploitasi. Selama pelatihan, probabilitas eksplorasi secara bertahap dikurangi. Pada akhirnya, fungsi mengembalikan tabel Q yang telah dilatih, yang digunakan agen untuk membuat keputusan saat berinteraksi dengan lingkungan."
      ],
      "metadata": {
        "id": "fnlTCWMcTz3L"
      }
    },
    {
      "cell_type": "code",
      "source": [
        "Q_table_all = []  # List kosong untuk menyimpan semua tabel Q dari setiap lingkungan\n",
        "\n",
        "for peta_env in peta:  # Loop melalui setiap peta dalam daftar peta\n",
        "    # Load Environment untuk setiap peta dengan konfigurasi tertentu\n",
        "    env = gym.make(\"FrozenLake-v0\", is_slippery=False, desc=peta_env)\n",
        "    env.reset()  # Reset lingkungan ke keadaan awal\n",
        "\n",
        "    print('Peta : ')\n",
        "    print(peta_env)  # Cetak peta yang sedang digunakan\n",
        "\n",
        "    # Melatih Agent pada lingkungan saat ini\n",
        "    Q_table = train_agent(env)  # Panggil fungsi train_agent untuk melatih agen di lingkungan saat ini\n",
        "\n",
        "    # Menyimpan Q_table untuk lingkungan saat ini ke dalam list\n",
        "    Q_table_all.append(Q_table)  # Tambahkan Q_table ke dalam list Q_table_all\n",
        "\n",
        "    print()  # Cetak baris kosong untuk pemisah antara lingkungan yang berbeda"
      ],
      "metadata": {
        "colab": {
          "base_uri": "https://localhost:8080/"
        },
        "id": "sT9K1SYWQJnI",
        "outputId": "84f73ee2-2186-494e-e1ba-b15147e67018"
      },
      "execution_count": null,
      "outputs": [
        {
          "output_type": "stream",
          "name": "stdout",
          "text": [
            "Peta : \n",
            "['SFFF', 'FHFH', 'FFFH', 'HFFG']\n",
            "Rata-Rata Reward per 1000 Episode\n",
            "1000  : Rata-Rata Reward:  0.238\n",
            "2000  : Rata-Rata Reward:  0.739\n",
            "3000  : Rata-Rata Reward:  0.91\n",
            "4000  : Rata-Rata Reward:  0.964\n",
            "5000  : Rata-Rata Reward:  0.986\n",
            "6000  : Rata-Rata Reward:  0.994\n",
            "7000  : Rata-Rata Reward:  0.988\n",
            "8000  : Rata-Rata Reward:  0.993\n",
            "9000  : Rata-Rata Reward:  0.991\n",
            "10000  : Rata-Rata Reward:  0.993\n",
            "\n",
            "Peta : \n",
            "['SFFF', 'FFHF', 'HFFF', 'HFFG']\n",
            "Rata-Rata Reward per 1000 Episode\n",
            "1000  : Rata-Rata Reward:  0.446\n",
            "2000  : Rata-Rata Reward:  0.841\n",
            "3000  : Rata-Rata Reward:  0.95\n",
            "4000  : Rata-Rata Reward:  0.985\n",
            "5000  : Rata-Rata Reward:  0.998\n",
            "6000  : Rata-Rata Reward:  0.998\n",
            "7000  : Rata-Rata Reward:  0.996\n",
            "8000  : Rata-Rata Reward:  0.995\n",
            "9000  : Rata-Rata Reward:  0.993\n",
            "10000  : Rata-Rata Reward:  0.991\n",
            "\n",
            "Peta : \n",
            "['SHFF', 'FHFH', 'FFFH', 'HHFG']\n",
            "Rata-Rata Reward per 1000 Episode\n",
            "1000  : Rata-Rata Reward:  0.0\n",
            "2000  : Rata-Rata Reward:  0.0\n",
            "3000  : Rata-Rata Reward:  0.0\n",
            "4000  : Rata-Rata Reward:  0.0\n",
            "5000  : Rata-Rata Reward:  0.0\n",
            "6000  : Rata-Rata Reward:  0.0\n",
            "7000  : Rata-Rata Reward:  0.0\n",
            "8000  : Rata-Rata Reward:  0.0\n",
            "9000  : Rata-Rata Reward:  0.0\n",
            "10000  : Rata-Rata Reward:  0.0\n",
            "\n",
            "Peta : \n",
            "['SFFF', 'HHFF', 'FFFF', 'HFFG']\n",
            "Rata-Rata Reward per 1000 Episode\n",
            "1000  : Rata-Rata Reward:  0.324\n",
            "2000  : Rata-Rata Reward:  0.816\n",
            "3000  : Rata-Rata Reward:  0.933\n",
            "4000  : Rata-Rata Reward:  0.982\n",
            "5000  : Rata-Rata Reward:  0.993\n",
            "6000  : Rata-Rata Reward:  0.991\n",
            "7000  : Rata-Rata Reward:  0.992\n",
            "8000  : Rata-Rata Reward:  0.987\n",
            "9000  : Rata-Rata Reward:  0.994\n",
            "10000  : Rata-Rata Reward:  0.993\n",
            "\n",
            "Peta : \n",
            "['SFFH', 'FFFH', 'HFFH', 'HHFG']\n",
            "Rata-Rata Reward per 1000 Episode\n",
            "1000  : Rata-Rata Reward:  0.0\n",
            "2000  : Rata-Rata Reward:  0.0\n",
            "3000  : Rata-Rata Reward:  0.0\n",
            "4000  : Rata-Rata Reward:  0.0\n",
            "5000  : Rata-Rata Reward:  0.0\n",
            "6000  : Rata-Rata Reward:  0.0\n",
            "7000  : Rata-Rata Reward:  0.0\n",
            "8000  : Rata-Rata Reward:  0.0\n",
            "9000  : Rata-Rata Reward:  0.0\n",
            "10000  : Rata-Rata Reward:  0.0\n",
            "\n"
          ]
        }
      ]
    },
    {
      "cell_type": "markdown",
      "source": [
        "Dalam loop ini, setiap lingkungan dari daftar `peta` dimuat, agen dilatih di lingkungan tersebut, dan tabel Q hasil latihan disimpan ke dalam list `Q_table_all` untuk digunakan nanti. Proses ini diulang untuk setiap lingkungan dalam `peta`."
      ],
      "metadata": {
        "id": "UnrPq5F8TqPk"
      }
    },
    {
      "cell_type": "markdown",
      "source": [
        "## **Memainkan Agent yang Telah Dilatih**"
      ],
      "metadata": {
        "id": "MCc-2bZ-QNNj"
      }
    },
    {
      "cell_type": "markdown",
      "source": [
        "Kode ini digunakan untuk memilih peta yang akan digunakan dalam lingkungan permainan Frozen Lake. Anda dapat mengubah nilai dari `index_peta` untuk memilih peta tertentu dari daftar `peta`. Lingkungan permainan kemudian dibuat menggunakan `gym.make()` dengan konfigurasi `FrozenLake-v0` dan deskripsi peta yang sesuai dengan pilihan Anda. Parameter `is_slippery=False` menetapkan perilaku permukaan es agar tetap stabil tanpa geseran, dan `env.reset()` digunakan untuk mengatur ulang lingkungan ke keadaan awal."
      ],
      "metadata": {
        "id": "xpnoOS5fV4Ru"
      }
    },
    {
      "cell_type": "code",
      "source": [
        "index_peta = 0 # silahkan pilih peta\n",
        "\n",
        "env = gym.make(\"FrozenLake-v0\",is_slippery=False, desc=peta[index_peta])\n",
        "env.reset()"
      ],
      "metadata": {
        "colab": {
          "base_uri": "https://localhost:8080/"
        },
        "id": "BYCGjTVcQNwy",
        "outputId": "dc2228de-9bee-43e9-910c-239919d2d30b"
      },
      "execution_count": null,
      "outputs": [
        {
          "output_type": "execute_result",
          "data": {
            "text/plain": [
              "0"
            ]
          },
          "metadata": {},
          "execution_count": 16
        }
      ]
    },
    {
      "cell_type": "markdown",
      "source": [
        "Loop `for` ini digunakan untuk mengikuti langkah-langkah agen dalam lingkungan Frozen Lake berdasarkan tabel Q yang telah dilatih. Pada setiap iterasi, agen memilih tindakan terbaik berdasarkan tabel Q yang telah dilatih untuk langkah sebelumnya atau langkah awal jika ini adalah langkah pertama. Agen kemudian melakukan langkah tersebut dalam lingkungan, mendapatkan informasi seperti state baru, reward yang diterima, dan apakah episode permainan telah selesai. Selanjutnya, informasi tersebut dicetak dan visualisasi lingkungan diperbarui. Proses ini diulang untuk total 6 langkah."
      ],
      "metadata": {
        "id": "C0h2ELGzWAZ0"
      }
    },
    {
      "cell_type": "code",
      "source": [
        "for langkah in range(1, 7):\n",
        "    if langkah == 1:\n",
        "        best_action = np.argmax(Q_table_all[index_peta][0])\n",
        "    else:\n",
        "        best_action = np.argmax(Q_table_all[index_peta][current_state])\n",
        "\n",
        "    new_state, reward, done, info = env.step(best_action)\n",
        "\n",
        "    # Cetak informasi langkah\n",
        "    print('--------------------------------------')\n",
        "    print('Langkah ke  :', langkah)\n",
        "    print('Best Action :', ACTION[best_action])\n",
        "    print('New State   :', new_state)\n",
        "    print('Reward      :', reward)\n",
        "    print('Done        :', done)\n",
        "\n",
        "    # Tampilkan visualisasi lingkungan\n",
        "    env.render()\n",
        "    current_state = new_state  # Perbarui state saat ini\n",
        "\n",
        "    print()"
      ],
      "metadata": {
        "colab": {
          "base_uri": "https://localhost:8080/"
        },
        "id": "Qn_SWx9CQTYb",
        "outputId": "1927c121-e1ea-4cae-d07d-f2865386c3c1"
      },
      "execution_count": null,
      "outputs": [
        {
          "output_type": "stream",
          "name": "stdout",
          "text": [
            "--------------------------------------\n",
            "Langkah ke  : 1\n",
            "Best Action : BAWAH\n",
            "New State   : 4\n",
            "Reward      : 0.0\n",
            "Done        : False\n",
            "  (Down)\n",
            "SFFF\n",
            "\u001b[41mF\u001b[0mHFH\n",
            "FFFH\n",
            "HFFG\n",
            "\n",
            "--------------------------------------\n",
            "Langkah ke  : 2\n",
            "Best Action : BAWAH\n",
            "New State   : 8\n",
            "Reward      : 0.0\n",
            "Done        : False\n",
            "  (Down)\n",
            "SFFF\n",
            "FHFH\n",
            "\u001b[41mF\u001b[0mFFH\n",
            "HFFG\n",
            "\n",
            "--------------------------------------\n",
            "Langkah ke  : 3\n",
            "Best Action : KANAN\n",
            "New State   : 9\n",
            "Reward      : 0.0\n",
            "Done        : False\n",
            "  (Right)\n",
            "SFFF\n",
            "FHFH\n",
            "F\u001b[41mF\u001b[0mFH\n",
            "HFFG\n",
            "\n",
            "--------------------------------------\n",
            "Langkah ke  : 4\n",
            "Best Action : KANAN\n",
            "New State   : 10\n",
            "Reward      : 0.0\n",
            "Done        : False\n",
            "  (Right)\n",
            "SFFF\n",
            "FHFH\n",
            "FF\u001b[41mF\u001b[0mH\n",
            "HFFG\n",
            "\n",
            "--------------------------------------\n",
            "Langkah ke  : 5\n",
            "Best Action : BAWAH\n",
            "New State   : 14\n",
            "Reward      : 0.0\n",
            "Done        : False\n",
            "  (Down)\n",
            "SFFF\n",
            "FHFH\n",
            "FFFH\n",
            "HF\u001b[41mF\u001b[0mG\n",
            "\n",
            "--------------------------------------\n",
            "Langkah ke  : 6\n",
            "Best Action : KANAN\n",
            "New State   : 15\n",
            "Reward      : 1.0\n",
            "Done        : True\n",
            "  (Right)\n",
            "SFFF\n",
            "FHFH\n",
            "FFFH\n",
            "HFF\u001b[41mG\u001b[0m\n",
            "\n"
          ]
        }
      ]
    },
    {
      "cell_type": "markdown",
      "source": [
        "## **Periksa Apakah Agent Mampu Menyelesaikan Semua Peta**"
      ],
      "metadata": {
        "id": "7SwD0ohLQVJ3"
      }
    },
    {
      "cell_type": "markdown",
      "source": [
        "Untuk setiap peta dalam daftar `peta`, program menampilkan peta yang sedang diperiksa. Kemudian, lingkungan permainan Frozen Lake dibuat berdasarkan deskripsi peta, dan agen dimulai di keadaan awal. Selanjutnya, agen melakukan langkah-langkah sampai langkah ke-6 atau sampai permainan selesai. Jika permainan selesai (variabel `done` bernilai `True`), artinya agen berhasil menyelesaikan peta, dan pesan \"Status: Agent dapat menyelesaikan peta ini\" dicetak. Jika tidak, pesan \"Status: Agent tidak dapat menyelesaikan peta ini\" dicetak. Proses ini diulang untuk setiap peta dalam daftar `peta`."
      ],
      "metadata": {
        "id": "NH9QN0KHW9_i"
      }
    },
    {
      "cell_type": "code",
      "source": [
        "for peta_env in peta:  # Iterasi melalui setiap peta dalam daftar peta\n",
        "    print(\"Peta   :\", peta_env)  # Cetak deskripsi peta yang sedang diperiksa\n",
        "\n",
        "    env = gym.make(\"FrozenLake-v0\", is_slippery=False, desc=peta_env)  # Buat lingkungan permainan Frozen Lake\n",
        "    env.reset()  # Atur ulang lingkungan ke keadaan awal\n",
        "\n",
        "    # Iterasi untuk agen melakukan langkah-langkah dalam lingkungan\n",
        "    for langkah in range(1, 7):\n",
        "        if langkah == 1:\n",
        "            best_action = np.argmax(Q_table_all[index_peta][0])  # Ambil tindakan terbaik untuk langkah pertama\n",
        "        else:\n",
        "            best_action = np.argmax(Q_table_all[index_peta][current_state])  # Ambil tindakan terbaik berdasarkan state saat ini\n",
        "\n",
        "        new_state, reward, done, info = env.step(best_action)  # Lakukan langkah terbaik dalam lingkungan\n",
        "\n",
        "        current_state = new_state  # Perbarui state saat ini\n",
        "\n",
        "    # Periksa apakah agen berhasil menyelesaikan permainan\n",
        "    if done:\n",
        "        print(\"Status : Agent dapat menyelesaikan peta ini\")  # Cetak pesan jika agen berhasil menyelesaikan permainan\n",
        "    else:\n",
        "        print(\"Status : Agent tidak dapat menyelesaikan peta ini\")  # Cetak pesan jika agen gagal menyelesaikan permainan\n",
        "\n",
        "    print()  # Cetak baris kosong sebagai pemisah antara hasil dari setiap peta"
      ],
      "metadata": {
        "colab": {
          "base_uri": "https://localhost:8080/"
        },
        "id": "uQh0oFc3QVqX",
        "outputId": "3eb2bf31-4295-46cb-83e8-ce71b37f2155"
      },
      "execution_count": null,
      "outputs": [
        {
          "output_type": "stream",
          "name": "stdout",
          "text": [
            "Peta   : ['SFFF', 'FHFH', 'FFFH', 'HFFG']\n",
            "Status : Agent dapat menyelesaikan peta ini\n",
            "\n",
            "Peta   : ['SFFF', 'FFHF', 'HFFF', 'HFFG']\n",
            "Status : Agent dapat menyelesaikan peta ini\n",
            "\n",
            "Peta   : ['SHFF', 'FHFH', 'FFFH', 'HHFG']\n",
            "Status : Agent dapat menyelesaikan peta ini\n",
            "\n",
            "Peta   : ['SFFF', 'HHFF', 'FFFF', 'HFFG']\n",
            "Status : Agent dapat menyelesaikan peta ini\n",
            "\n",
            "Peta   : ['SFFH', 'FFFH', 'HFFH', 'HHFG']\n",
            "Status : Agent dapat menyelesaikan peta ini\n",
            "\n"
          ]
        }
      ]
    },
    {
      "cell_type": "markdown",
      "source": [
        "## **Menyimpan Model**"
      ],
      "metadata": {
        "id": "FyEx0-qeQX63"
      }
    },
    {
      "cell_type": "markdown",
      "source": [
        "Perintah ini menggunakan modul pickle untuk menyimpan variabel Q_table_all ke dalam file dengan nama \"Q_table_Frozen_Lake.model\". Proses ini disebut serialisasi, yang mengonversi objek Python menjadi representasi byte yang dapat disimpan atau ditransmisikan, dan dapat diambil kembali (disebut deserialisasi) ke objek Python. Ini berguna ketika Anda ingin menyimpan variabel yang telah dihitung atau dilatih untuk digunakan nanti, tanpa perlu menjalankan kembali proses perhitungan atau pelatihan."
      ],
      "metadata": {
        "id": "R72YR9LHXVim"
      }
    },
    {
      "cell_type": "code",
      "source": [
        "# Simpan tabel Q yang telah dilatih menggunakan modul pickle\n",
        "pickle.dump(Q_table_all, open('Q_table_Frozen_Lake.model', 'wb'))\n",
        "\n",
        "# Penjelasan penutup\n",
        "print(\"Tabel Q untuk lingkungan Frozen Lake telah berhasil disimpan dalam file 'Q_table_Frozen_Lake.model'. Proses pelatihan agen dan penyimpanan tabel Q ini memungkinkan untuk digunakan kembali dalam pengujian atau aplikasi selanjutnya tanpa perlu melakukan pelatihan ulang.\")"
      ],
      "metadata": {
        "id": "xnRk7UxhQYVb",
        "colab": {
          "base_uri": "https://localhost:8080/"
        },
        "outputId": "a13b9e20-739d-4f66-a7b0-39192208c2d7"
      },
      "execution_count": null,
      "outputs": [
        {
          "output_type": "stream",
          "name": "stdout",
          "text": [
            "Tabel Q untuk lingkungan Frozen Lake telah berhasil disimpan dalam file 'Q_table_Frozen_Lake.model'. Proses pelatihan agen dan penyimpanan tabel Q ini memungkinkan untuk digunakan kembali dalam pengujian atau aplikasi selanjutnya tanpa perlu melakukan pelatihan ulang.\n"
          ]
        }
      ]
    }
  ]
}