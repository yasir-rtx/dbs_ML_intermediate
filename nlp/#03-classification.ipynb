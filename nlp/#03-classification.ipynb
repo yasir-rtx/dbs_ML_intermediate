{
 "cells": [
  {
   "cell_type": "markdown",
   "metadata": {},
   "source": [
    "# Binary Classification\n",
    "Binary classification adalah sebuah teknik dalam machine learning untuk memisahkan data pada dua kelas atau kategori yang saling eksklusif berdasarkan pemberian fitur atau atribut"
   ]
  },
  {
   "cell_type": "code",
   "execution_count": null,
   "metadata": {
    "vscode": {
     "languageId": "plaintext"
    }
   },
   "outputs": [],
   "source": []
  },
  {
   "cell_type": "markdown",
   "metadata": {},
   "source": [
    "# Multiclass Classification\n",
    "Multiclass classification adalah jenis masalah klasifikasi dalam machine learning bahwa model harus memprediksi kelas atau label dari data dalam lebih dari dua kategori yang berbeda."
   ]
  },
  {
   "cell_type": "code",
   "execution_count": null,
   "metadata": {
    "vscode": {
     "languageId": "plaintext"
    }
   },
   "outputs": [],
   "source": []
  },
  {
   "cell_type": "markdown",
   "metadata": {},
   "source": [
    "# Multilabel Classification\n",
    "Multi-label classification adalah jenis masalah klasifikasi pada machine learning bahwa setiap instance data dapat dikategorikan dalam lebih dari satu label atau kelas sekaligus."
   ]
  },
  {
   "cell_type": "code",
   "execution_count": null,
   "metadata": {
    "vscode": {
     "languageId": "plaintext"
    }
   },
   "outputs": [],
   "source": []
  }
 ],
 "metadata": {
  "language_info": {
   "name": "python"
  }
 },
 "nbformat": 4,
 "nbformat_minor": 2
}
