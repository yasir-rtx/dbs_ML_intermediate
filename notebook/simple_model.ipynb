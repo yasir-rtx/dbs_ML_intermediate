{
 "cells": [
  {
   "cell_type": "markdown",
   "id": "f5186ff9",
   "metadata": {},
   "source": [
    "# Test GPU"
   ]
  },
  {
   "cell_type": "code",
   "execution_count": 2,
   "id": "eccae62e-0ed0-48ef-bc96-2e976ea205a3",
   "metadata": {},
   "outputs": [],
   "source": [
    "from keras import datasets, models, layers\n",
    "from tensorflow import nn\n",
    "from tensorflow import _optimizers\n",
    "from os import system"
   ]
  },
  {
   "cell_type": "markdown",
   "id": "40ff2fa0",
   "metadata": {},
   "source": [
    "### Dataset"
   ]
  },
  {
   "cell_type": "code",
   "execution_count": 3,
   "id": "c188b338",
   "metadata": {},
   "outputs": [
    {
     "name": "stdout",
     "output_type": "stream",
     "text": [
      "Dataset is Ready!\n",
      "train : 60000 data\n",
      "test : 10000 data\n"
     ]
    }
   ],
   "source": [
    "mnist = datasets.fashion_mnist\n",
    "(x_train, y_train), (x_test, y_test) = mnist.load_data()\n",
    "x_train, x_test = x_train / 255, x_test / 255\n",
    "print(\"Dataset is Ready!\")\n",
    "print(\"train : {} data\".format(len(x_train)))\n",
    "print(\"test : {} data\".format(len(x_test)))"
   ]
  },
  {
   "cell_type": "markdown",
   "id": "7985633b",
   "metadata": {},
   "source": [
    "### Define Model"
   ]
  },
  {
   "cell_type": "code",
   "execution_count": 5,
   "id": "edae31a6",
   "metadata": {},
   "outputs": [],
   "source": [
    "model = models.Sequential([\n",
    "    layers.Flatten(input_shape=[28, 28]),\n",
    "    layers.Dense(512, activation=nn.relu),\n",
    "    layers.Dense(256, activation=nn.relu),\n",
    "    layers.Dense(10, activation=nn.softmax)\n",
    "])"
   ]
  },
  {
   "cell_type": "markdown",
   "id": "580e1ed9",
   "metadata": {},
   "source": [
    "### Compile Model"
   ]
  },
  {
   "cell_type": "code",
   "execution_count": 6,
   "id": "df92fbc9",
   "metadata": {},
   "outputs": [],
   "source": [
    "model.compile(  \n",
    "    optimizer = _optimizers.Adam(),\n",
    "    loss = 'sparse_categorical_crossentropy',\n",
    "    metrics = ['accuracy']\n",
    ")"
   ]
  },
  {
   "cell_type": "markdown",
   "id": "9a698fe6",
   "metadata": {},
   "source": [
    "### Train Model"
   ]
  },
  {
   "cell_type": "code",
   "execution_count": 8,
   "id": "5737cce3",
   "metadata": {},
   "outputs": [
    {
     "name": "stdout",
     "output_type": "stream",
     "text": [
      "Epoch 1/2\n",
      "\u001b[1m1875/1875\u001b[0m \u001b[32m━━━━━━━━━━━━━━━━━━━━\u001b[0m\u001b[37m\u001b[0m \u001b[1m8s\u001b[0m 5ms/step - accuracy: 0.8810 - loss: 0.3226 - val_accuracy: 0.8651 - val_loss: 0.3807\n",
      "Epoch 2/2\n",
      "\u001b[1m1875/1875\u001b[0m \u001b[32m━━━━━━━━━━━━━━━━━━━━\u001b[0m\u001b[37m\u001b[0m \u001b[1m8s\u001b[0m 4ms/step - accuracy: 0.8896 - loss: 0.2991 - val_accuracy: 0.8793 - val_loss: 0.3346\n"
     ]
    },
    {
     "data": {
      "text/plain": [
       "<keras.src.callbacks.history.History at 0x7f3665517c10>"
      ]
     },
     "execution_count": 8,
     "metadata": {},
     "output_type": "execute_result"
    }
   ],
   "source": [
    "model.fit(\n",
    "    x_train, \n",
    "    y_train, \n",
    "    epochs = 2,\n",
    "    validation_data=(x_test, y_test)\n",
    ")"
   ]
  }
 ],
 "metadata": {
  "kernelspec": {
   "display_name": "tf2.16",
   "language": "python",
   "name": "python3"
  },
  "language_info": {
   "codemirror_mode": {
    "name": "ipython",
    "version": 3
   },
   "file_extension": ".py",
   "mimetype": "text/x-python",
   "name": "python",
   "nbconvert_exporter": "python",
   "pygments_lexer": "ipython3",
   "version": "3.10.12"
  }
 },
 "nbformat": 4,
 "nbformat_minor": 5
}
